{
 "cells": [
  {
   "cell_type": "code",
   "execution_count": 1,
   "metadata": {
    "collapsed": false,
    "jupyter": {
     "outputs_hidden": false
    },
    "pycharm": {
     "name": "#%%\n"
    }
   },
   "outputs": [],
   "source": [
    "import os\n",
    "import re\n",
    "\n",
    "import numpy as np\n",
    "import requests\n",
    "\n",
    "from tqdm import tqdm\n",
    "import pandas as pd\n",
    "\n",
    "photo_techniques = [\n",
    "    \"tintypes\",\n",
    "    \"acetate+negatives\",\n",
    "    \"cyanotypes\",\n",
    "    \"cabinet+photographs\",\n",
    "    \"nitrate+negatives\",\n",
    "    \"wet+collodion+negatives\",\n",
    "    \"daguerreotypes\",\n",
    "    \"ambrotypes\",\n",
    "    \"dry+plate+negatives\",\n",
    "    \"cartes+de+visite\",\n",
    "    \"gelatin+silver+prints\",\n",
    "    \"albumen+prints\",\n",
    "    \"portrait+photographs\"\n",
    "]"
   ]
  },
  {
   "cell_type": "code",
   "execution_count": 75,
   "metadata": {
    "collapsed": false,
    "jupyter": {
     "outputs_hidden": false
    },
    "pycharm": {
     "name": "#%%\n"
    }
   },
   "outputs": [],
   "source": [
    "urls = []\n",
    "for technique in photo_techniques:\n",
    "    for start_year in range(1840, 1950, 5):\n",
    "        url = f\"https://www.loc.gov/photos/?dates={start_year}/{start_year + 4}&fa=online-format:image%7Csubject:{technique}\"\n",
    "        urls.append((url, technique))"
   ]
  },
  {
   "cell_type": "code",
   "execution_count": 86,
   "metadata": {
    "collapsed": false,
    "jupyter": {
     "outputs_hidden": false
    },
    "pycharm": {
     "name": "#%%\n"
    }
   },
   "outputs": [],
   "source": [
    "def parse_result(result, extra_label=None):\n",
    "    access_restricted = result.get(\"access_restricted\")\n",
    "    try:\n",
    "        date = int(result.get(\"date\"))\n",
    "    except:\n",
    "        date = None\n",
    "    image_permalink = result.get(\"id\")\n",
    "    m = re.match(r\"http://www.loc.gov/item/(?P<ID>\\d+)/\", image_permalink)\n",
    "    if m is None:\n",
    "        image_id = None\n",
    "    else:\n",
    "        image_id = m.group(\"ID\")\n",
    "    description = result.get(\"description\")[0]\n",
    "    image_url = None\n",
    "    if result.get(\"image_url\"):\n",
    "        image_url = result.get(\"image_url\")[-1]\n",
    "    return image_id, image_permalink, image_url, date, description, access_restricted, extra_label\n",
    "\n",
    "\n",
    "def parse_results(results, extra_label=None, page=None):\n",
    "    parsed_results = []\n",
    "    for result in results:\n",
    "        # don't try to get images from the collection-level result\n",
    "        if \"collection\" in result.get(\"original_format\") or \"web page\" in result.get(\"original_format\"):\n",
    "            continue\n",
    "        try:\n",
    "            parsed_result = parse_result(result, extra_label=extra_label)\n",
    "            parsed_results.append(parsed_result)\n",
    "        except Exception as e:\n",
    "            print(f\"[{label}][page {page}]: {e}\")\n",
    "    return parsed_results\n",
    "\n",
    "\n",
    "def get_next_url(json_response):\n",
    "    return json_response[\"pagination\"][\"next\"]\n",
    "\n",
    "\n",
    "def get_loc_images(url, label, df_dir=\"info.csv\", max_images=1000):\n",
    "    params = {\"fo\": \"json\", \"c\": 100, \"at\": \"results,pagination\"}\n",
    "    image_data = []\n",
    "    current_url = url\n",
    "    page = 0\n",
    "\n",
    "    try:\n",
    "        while len(image_data) < max_images and current_url is not None:\n",
    "            response = requests.get(current_url, params=params)\n",
    "            if response.status_code != 200:\n",
    "                print(f\"[{label}][page {page}]: Response {response.status_code} at {current_url}\")\n",
    "                return\n",
    "            json_response = response.json()\n",
    "            results = json_response['results']\n",
    "            parsed_results = parse_results(results, extra_label=label, page=page)\n",
    "            image_data.extend(parsed_results)\n",
    "            current_url = get_next_url(json_response)\n",
    "            page += 1\n",
    "    except Exception as e:\n",
    "        print(f\"[{label}][page {page}]: {e}\")\n",
    "    finally:\n",
    "        new_df = pd.DataFrame(image_data,\n",
    "                              columns=[\"id\", \"image_permalink\", \"url\",\n",
    "                                       \"year\", \"description\", \"access_restricted\", \"technique\"])\n",
    "        if os.path.exists(df_dir):\n",
    "            df = pd.read_csv(df_dir)\n",
    "            concat_df = pd.concat([df, new_df])\n",
    "            concat_df.to_csv(df_dir, index=False)\n",
    "            return len(concat_df)\n",
    "        else:\n",
    "            new_df.to_csv(df_dir, index=False)\n",
    "            return len(new_df)"
   ]
  },
  {
   "cell_type": "code",
   "execution_count": 93,
   "metadata": {
    "collapsed": false,
    "jupyter": {
     "outputs_hidden": false
    },
    "pycharm": {
     "name": "#%%\n"
    }
   },
   "outputs": [
    {
     "name": "stderr",
     "output_type": "stream",
     "text": [
      "Ended on tintypes | Downloaded 1156 images:   3%|▍            | 10/286 [00:22<07:23,  1.61s/it]"
     ]
    },
    {
     "name": "stdout",
     "output_type": "stream",
     "text": [
      "[tintypes][page 0]: 'NoneType' object is not subscriptable\n"
     ]
    },
    {
     "name": "stderr",
     "output_type": "stream",
     "text": [
      "Ended on daguerreotypes | Downloaded 29855 images:  48%|██▍  | 138/286 [10:01<04:28,  1.81s/it]"
     ]
    },
    {
     "name": "stdout",
     "output_type": "stream",
     "text": [
      "[daguerreotypes][page 0]: 'NoneType' object is not subscriptable\n"
     ]
    },
    {
     "name": "stderr",
     "output_type": "stream",
     "text": [
      "Ended on daguerreotypes | Downloaded 29860 images:  49%|██▍  | 139/286 [10:02<03:38,  1.48s/it]"
     ]
    },
    {
     "name": "stdout",
     "output_type": "stream",
     "text": [
      "[daguerreotypes][page 0]: 'NoneType' object is not subscriptable\n"
     ]
    },
    {
     "name": "stderr",
     "output_type": "stream",
     "text": [
      "Ended on daguerreotypes | Downloaded 29861 images:  49%|██▍  | 141/286 [10:03<02:27,  1.02s/it]"
     ]
    },
    {
     "name": "stdout",
     "output_type": "stream",
     "text": [
      "[daguerreotypes][page 0]: 'NoneType' object is not subscriptable\n"
     ]
    },
    {
     "name": "stderr",
     "output_type": "stream",
     "text": [
      "Ended on daguerreotypes | Downloaded 29862 images:  50%|██▍  | 142/286 [10:04<02:05,  1.15it/s]"
     ]
    },
    {
     "name": "stdout",
     "output_type": "stream",
     "text": [
      "[daguerreotypes][page 0]: 'NoneType' object is not subscriptable\n"
     ]
    },
    {
     "name": "stderr",
     "output_type": "stream",
     "text": [
      "Ended on daguerreotypes | Downloaded 29865 images:  50%|██▌  | 143/286 [10:04<01:49,  1.31it/s]"
     ]
    },
    {
     "name": "stdout",
     "output_type": "stream",
     "text": [
      "[daguerreotypes][page 0]: 'NoneType' object is not subscriptable\n",
      "[daguerreotypes][page 0]: 'NoneType' object is not subscriptable\n"
     ]
    },
    {
     "name": "stderr",
     "output_type": "stream",
     "text": [
      "Ended on daguerreotypes | Downloaded 29878 images:  51%|██▌  | 145/286 [10:06<01:43,  1.36it/s]"
     ]
    },
    {
     "name": "stdout",
     "output_type": "stream",
     "text": [
      "[daguerreotypes][page 0]: 'NoneType' object is not subscriptable\n",
      "[daguerreotypes][page 0]: 'NoneType' object is not subscriptable\n"
     ]
    },
    {
     "name": "stderr",
     "output_type": "stream",
     "text": [
      "Ended on daguerreotypes | Downloaded 29880 images:  51%|██▌  | 147/286 [10:08<01:55,  1.20it/s]"
     ]
    },
    {
     "name": "stdout",
     "output_type": "stream",
     "text": [
      "[daguerreotypes][page 0]: 'NoneType' object is not subscriptable\n"
     ]
    },
    {
     "name": "stderr",
     "output_type": "stream",
     "text": [
      "Ended on daguerreotypes | Downloaded 29888 images:  52%|██▌  | 148/286 [10:08<01:45,  1.30it/s]"
     ]
    },
    {
     "name": "stdout",
     "output_type": "stream",
     "text": [
      "[daguerreotypes][page 0]: 'NoneType' object is not subscriptable\n"
     ]
    },
    {
     "name": "stderr",
     "output_type": "stream",
     "text": [
      "Ended on daguerreotypes | Downloaded 29888 images:  52%|██▌  | 149/286 [10:09<01:32,  1.48it/s]"
     ]
    },
    {
     "name": "stdout",
     "output_type": "stream",
     "text": [
      "[daguerreotypes][page 0]: 'NoneType' object is not subscriptable\n"
     ]
    },
    {
     "name": "stderr",
     "output_type": "stream",
     "text": [
      "Ended on daguerreotypes | Downloaded 29888 images:  52%|██▌  | 150/286 [10:10<01:44,  1.30it/s]"
     ]
    },
    {
     "name": "stdout",
     "output_type": "stream",
     "text": [
      "[daguerreotypes][page 0]: 'NoneType' object is not subscriptable\n",
      "[daguerreotypes][page 0]: 'NoneType' object is not subscriptable\n"
     ]
    },
    {
     "name": "stderr",
     "output_type": "stream",
     "text": [
      "Ended on portrait+photographs | Downloaded 74062 images:  94%|▉| 269/286 [23:33<05:29, 19.41s/i"
     ]
    },
    {
     "name": "stdout",
     "output_type": "stream",
     "text": [
      "[portrait+photographs][page 10]: 'NoneType' object is not subscriptable\n"
     ]
    },
    {
     "name": "stderr",
     "output_type": "stream",
     "text": [
      "Ended on portrait+photographs | Downloaded 76115 images:  94%|▉| 270/286 [24:06<06:14, 23.43s/i"
     ]
    },
    {
     "name": "stdout",
     "output_type": "stream",
     "text": [
      "[portrait+photographs][page 0]: 'NoneType' object is not subscriptable\n",
      "[portrait+photographs][page 4]: 'NoneType' object is not subscriptable\n",
      "[portrait+photographs][page 4]: 'NoneType' object is not subscriptable\n",
      "[portrait+photographs][page 6]: 'NoneType' object is not subscriptable\n",
      "[portrait+photographs][page 11]: 'NoneType' object is not subscriptable\n",
      "[portrait+photographs][page 12]: 'NoneType' object is not subscriptable\n",
      "[portrait+photographs][page 12]: 'NoneType' object is not subscriptable\n",
      "[portrait+photographs][page 12]: 'NoneType' object is not subscriptable\n",
      "[portrait+photographs][page 12]: 'NoneType' object is not subscriptable\n",
      "[portrait+photographs][page 14]: 'NoneType' object is not subscriptable\n",
      "[portrait+photographs][page 17]: 'NoneType' object is not subscriptable\n",
      "[portrait+photographs][page 18]: 'NoneType' object is not subscriptable\n",
      "[portrait+photographs][page 18]: 'NoneType' object is not subscriptable\n",
      "[portrait+photographs][page 20]: 'NoneType' object is not subscriptable\n"
     ]
    },
    {
     "name": "stderr",
     "output_type": "stream",
     "text": [
      "Ended on portrait+photographs | Downloaded 78188 images:  95%|▉| 271/286 [24:45<06:58, 27.93s/i"
     ]
    },
    {
     "name": "stdout",
     "output_type": "stream",
     "text": [
      "[portrait+photographs][page 0]: 'NoneType' object is not subscriptable\n",
      "[portrait+photographs][page 0]: 'NoneType' object is not subscriptable\n",
      "[portrait+photographs][page 0]: 'NoneType' object is not subscriptable\n",
      "[portrait+photographs][page 0]: 'NoneType' object is not subscriptable\n",
      "[portrait+photographs][page 0]: 'NoneType' object is not subscriptable\n",
      "[portrait+photographs][page 0]: 'NoneType' object is not subscriptable\n",
      "[portrait+photographs][page 0]: 'NoneType' object is not subscriptable\n",
      "[portrait+photographs][page 0]: 'NoneType' object is not subscriptable\n",
      "[portrait+photographs][page 0]: 'NoneType' object is not subscriptable\n",
      "[portrait+photographs][page 0]: 'NoneType' object is not subscriptable\n",
      "[portrait+photographs][page 0]: 'NoneType' object is not subscriptable\n",
      "[portrait+photographs][page 0]: 'NoneType' object is not subscriptable\n",
      "[portrait+photographs][page 0]: 'NoneType' object is not subscriptable\n",
      "[portrait+photographs][page 0]: 'NoneType' object is not subscriptable\n",
      "[portrait+photographs][page 0]: 'NoneType' object is not subscriptable\n",
      "[portrait+photographs][page 0]: 'NoneType' object is not subscriptable\n",
      "[portrait+photographs][page 0]: 'NoneType' object is not subscriptable\n",
      "[portrait+photographs][page 0]: 'NoneType' object is not subscriptable\n",
      "[portrait+photographs][page 0]: 'NoneType' object is not subscriptable\n",
      "[portrait+photographs][page 1]: 'NoneType' object is not subscriptable\n",
      "[portrait+photographs][page 1]: 'NoneType' object is not subscriptable\n",
      "[portrait+photographs][page 1]: 'NoneType' object is not subscriptable\n",
      "[portrait+photographs][page 1]: 'NoneType' object is not subscriptable\n",
      "[portrait+photographs][page 1]: 'NoneType' object is not subscriptable\n",
      "[portrait+photographs][page 1]: 'NoneType' object is not subscriptable\n",
      "[portrait+photographs][page 1]: 'NoneType' object is not subscriptable\n",
      "[portrait+photographs][page 1]: 'NoneType' object is not subscriptable\n",
      "[portrait+photographs][page 1]: 'NoneType' object is not subscriptable\n",
      "[portrait+photographs][page 1]: 'NoneType' object is not subscriptable\n",
      "[portrait+photographs][page 1]: 'NoneType' object is not subscriptable\n",
      "[portrait+photographs][page 1]: 'NoneType' object is not subscriptable\n",
      "[portrait+photographs][page 1]: 'NoneType' object is not subscriptable\n",
      "[portrait+photographs][page 1]: 'NoneType' object is not subscriptable\n",
      "[portrait+photographs][page 1]: 'NoneType' object is not subscriptable\n",
      "[portrait+photographs][page 1]: 'NoneType' object is not subscriptable\n",
      "[portrait+photographs][page 1]: 'NoneType' object is not subscriptable\n",
      "[portrait+photographs][page 1]: 'NoneType' object is not subscriptable\n",
      "[portrait+photographs][page 1]: 'NoneType' object is not subscriptable\n",
      "[portrait+photographs][page 1]: 'NoneType' object is not subscriptable\n",
      "[portrait+photographs][page 1]: 'NoneType' object is not subscriptable\n",
      "[portrait+photographs][page 1]: 'NoneType' object is not subscriptable\n"
     ]
    },
    {
     "name": "stderr",
     "output_type": "stream",
     "text": [
      "Ended on portrait+photographs | Downloaded 78331 images:  95%|▉| 272/286 [24:48<04:49, 20.70s/i"
     ]
    },
    {
     "name": "stdout",
     "output_type": "stream",
     "text": [
      "[portrait+photographs][page 0]: 'NoneType' object is not subscriptable\n",
      "[portrait+photographs][page 0]: 'NoneType' object is not subscriptable\n",
      "[portrait+photographs][page 0]: 'NoneType' object is not subscriptable\n",
      "[portrait+photographs][page 1]: 'NoneType' object is not subscriptable\n",
      "[portrait+photographs][page 1]: 'NoneType' object is not subscriptable\n",
      "[portrait+photographs][page 2]: 'NoneType' object is not subscriptable\n",
      "[portrait+photographs][page 2]: 'NoneType' object is not subscriptable\n",
      "[portrait+photographs][page 2]: 'NoneType' object is not subscriptable\n",
      "[portrait+photographs][page 2]: 'NoneType' object is not subscriptable\n",
      "[portrait+photographs][page 2]: 'NoneType' object is not subscriptable\n",
      "[portrait+photographs][page 2]: 'NoneType' object is not subscriptable\n",
      "[portrait+photographs][page 3]: 'NoneType' object is not subscriptable\n",
      "[portrait+photographs][page 3]: 'NoneType' object is not subscriptable\n",
      "[portrait+photographs][page 3]: 'NoneType' object is not subscriptable\n",
      "[portrait+photographs][page 3]: 'NoneType' object is not subscriptable\n",
      "[portrait+photographs][page 3]: 'NoneType' object is not subscriptable\n",
      "[portrait+photographs][page 4]: 'NoneType' object is not subscriptable\n",
      "[portrait+photographs][page 5]: 'NoneType' object is not subscriptable\n",
      "[portrait+photographs][page 5]: 'NoneType' object is not subscriptable\n",
      "[portrait+photographs][page 5]: 'NoneType' object is not subscriptable\n",
      "[portrait+photographs][page 5]: 'NoneType' object is not subscriptable\n",
      "[portrait+photographs][page 5]: 'NoneType' object is not subscriptable\n",
      "[portrait+photographs][page 5]: 'NoneType' object is not subscriptable\n",
      "[portrait+photographs][page 6]: 'NoneType' object is not subscriptable\n",
      "[portrait+photographs][page 6]: 'NoneType' object is not subscriptable\n",
      "[portrait+photographs][page 6]: 'NoneType' object is not subscriptable\n",
      "[portrait+photographs][page 6]: 'NoneType' object is not subscriptable\n",
      "[portrait+photographs][page 6]: 'NoneType' object is not subscriptable\n",
      "[portrait+photographs][page 7]: 'NoneType' object is not subscriptable\n",
      "[portrait+photographs][page 7]: 'NoneType' object is not subscriptable\n",
      "[portrait+photographs][page 7]: 'NoneType' object is not subscriptable\n",
      "[portrait+photographs][page 7]: 'NoneType' object is not subscriptable\n",
      "[portrait+photographs][page 7]: 'NoneType' object is not subscriptable\n",
      "[portrait+photographs][page 7]: 'NoneType' object is not subscriptable\n",
      "[portrait+photographs][page 8]: 'NoneType' object is not subscriptable\n",
      "[portrait+photographs][page 8]: 'NoneType' object is not subscriptable\n",
      "[portrait+photographs][page 8]: 'NoneType' object is not subscriptable\n",
      "[portrait+photographs][page 8]: 'NoneType' object is not subscriptable\n",
      "[portrait+photographs][page 8]: 'NoneType' object is not subscriptable\n",
      "[portrait+photographs][page 9]: 'NoneType' object is not subscriptable\n"
     ]
    },
    {
     "name": "stderr",
     "output_type": "stream",
     "text": [
      "Ended on portrait+photographs | Downloaded 79215 images:  95%|▉| 273/286 [25:06<04:16, 19.76s/i"
     ]
    },
    {
     "name": "stdout",
     "output_type": "stream",
     "text": [
      "[portrait+photographs][page 0]: 'NoneType' object is not subscriptable\n",
      "[portrait+photographs][page 0]: 'NoneType' object is not subscriptable\n",
      "[portrait+photographs][page 0]: 'NoneType' object is not subscriptable\n",
      "[portrait+photographs][page 0]: 'NoneType' object is not subscriptable\n",
      "[portrait+photographs][page 0]: 'NoneType' object is not subscriptable\n",
      "[portrait+photographs][page 1]: 'NoneType' object is not subscriptable\n",
      "[portrait+photographs][page 1]: 'NoneType' object is not subscriptable\n",
      "[portrait+photographs][page 1]: 'NoneType' object is not subscriptable\n",
      "[portrait+photographs][page 1]: 'NoneType' object is not subscriptable\n",
      "[portrait+photographs][page 1]: 'NoneType' object is not subscriptable\n",
      "[portrait+photographs][page 1]: 'NoneType' object is not subscriptable\n",
      "[portrait+photographs][page 1]: 'NoneType' object is not subscriptable\n",
      "[portrait+photographs][page 1]: 'NoneType' object is not subscriptable\n",
      "[portrait+photographs][page 1]: 'NoneType' object is not subscriptable\n",
      "[portrait+photographs][page 1]: 'NoneType' object is not subscriptable\n",
      "[portrait+photographs][page 1]: 'NoneType' object is not subscriptable\n",
      "[portrait+photographs][page 1]: 'NoneType' object is not subscriptable\n",
      "[portrait+photographs][page 1]: 'NoneType' object is not subscriptable\n",
      "[portrait+photographs][page 1]: 'NoneType' object is not subscriptable\n",
      "[portrait+photographs][page 2]: 'NoneType' object is not subscriptable\n",
      "[portrait+photographs][page 2]: 'NoneType' object is not subscriptable\n",
      "[portrait+photographs][page 2]: 'NoneType' object is not subscriptable\n",
      "[portrait+photographs][page 2]: 'NoneType' object is not subscriptable\n",
      "[portrait+photographs][page 2]: 'NoneType' object is not subscriptable\n",
      "[portrait+photographs][page 2]: 'NoneType' object is not subscriptable\n",
      "[portrait+photographs][page 2]: 'NoneType' object is not subscriptable\n",
      "[portrait+photographs][page 2]: 'NoneType' object is not subscriptable\n",
      "[portrait+photographs][page 3]: 'NoneType' object is not subscriptable\n",
      "[portrait+photographs][page 3]: 'NoneType' object is not subscriptable\n",
      "[portrait+photographs][page 3]: 'NoneType' object is not subscriptable\n",
      "[portrait+photographs][page 3]: 'NoneType' object is not subscriptable\n",
      "[portrait+photographs][page 3]: 'NoneType' object is not subscriptable\n",
      "[portrait+photographs][page 3]: 'NoneType' object is not subscriptable\n",
      "[portrait+photographs][page 3]: 'NoneType' object is not subscriptable\n",
      "[portrait+photographs][page 3]: 'NoneType' object is not subscriptable\n",
      "[portrait+photographs][page 3]: 'NoneType' object is not subscriptable\n",
      "[portrait+photographs][page 3]: 'NoneType' object is not subscriptable\n",
      "[portrait+photographs][page 3]: 'NoneType' object is not subscriptable\n",
      "[portrait+photographs][page 3]: 'NoneType' object is not subscriptable\n",
      "[portrait+photographs][page 3]: 'NoneType' object is not subscriptable\n",
      "[portrait+photographs][page 3]: 'NoneType' object is not subscriptable\n",
      "[portrait+photographs][page 4]: 'NoneType' object is not subscriptable\n",
      "[portrait+photographs][page 4]: 'NoneType' object is not subscriptable\n",
      "[portrait+photographs][page 4]: 'NoneType' object is not subscriptable\n",
      "[portrait+photographs][page 4]: 'NoneType' object is not subscriptable\n",
      "[portrait+photographs][page 4]: 'NoneType' object is not subscriptable\n",
      "[portrait+photographs][page 4]: 'NoneType' object is not subscriptable\n"
     ]
    },
    {
     "name": "stderr",
     "output_type": "stream",
     "text": [
      "Ended on portrait+photographs | Downloaded 79610 images:  96%|▉| 274/286 [25:14<03:14, 16.25s/i"
     ]
    },
    {
     "name": "stdout",
     "output_type": "stream",
     "text": [
      "[portrait+photographs][page 0]: 'NoneType' object is not subscriptable\n",
      "[portrait+photographs][page 8]: 'NoneType' object is not subscriptable\n",
      "[portrait+photographs][page 9]: 'NoneType' object is not subscriptable\n",
      "[portrait+photographs][page 13]: 'NoneType' object is not subscriptable\n"
     ]
    },
    {
     "name": "stderr",
     "output_type": "stream",
     "text": [
      "Ended on portrait+photographs | Downloaded 81702 images:  96%|▉| 275/286 [25:46<03:50, 20.94s/i"
     ]
    },
    {
     "name": "stdout",
     "output_type": "stream",
     "text": [
      "[portrait+photographs][page 0]: 'NoneType' object is not subscriptable\n",
      "[portrait+photographs][page 1]: 'NoneType' object is not subscriptable\n",
      "[portrait+photographs][page 1]: 'NoneType' object is not subscriptable\n",
      "[portrait+photographs][page 1]: 'NoneType' object is not subscriptable\n",
      "[portrait+photographs][page 2]: 'NoneType' object is not subscriptable\n",
      "[portrait+photographs][page 3]: 'NoneType' object is not subscriptable\n",
      "[portrait+photographs][page 3]: 'NoneType' object is not subscriptable\n",
      "[portrait+photographs][page 3]: 'NoneType' object is not subscriptable\n",
      "[portrait+photographs][page 3]: 'NoneType' object is not subscriptable\n",
      "[portrait+photographs][page 4]: 'NoneType' object is not subscriptable\n",
      "[portrait+photographs][page 4]: 'NoneType' object is not subscriptable\n",
      "[portrait+photographs][page 4]: 'NoneType' object is not subscriptable\n",
      "[portrait+photographs][page 5]: 'NoneType' object is not subscriptable\n",
      "[portrait+photographs][page 5]: 'NoneType' object is not subscriptable\n",
      "[portrait+photographs][page 5]: 'NoneType' object is not subscriptable\n",
      "[portrait+photographs][page 6]: 'NoneType' object is not subscriptable\n",
      "[portrait+photographs][page 6]: 'NoneType' object is not subscriptable\n",
      "[portrait+photographs][page 7]: 'NoneType' object is not subscriptable\n",
      "[portrait+photographs][page 7]: 'NoneType' object is not subscriptable\n",
      "[portrait+photographs][page 7]: 'NoneType' object is not subscriptable\n",
      "[portrait+photographs][page 7]: 'NoneType' object is not subscriptable\n",
      "[portrait+photographs][page 8]: 'NoneType' object is not subscriptable\n",
      "[portrait+photographs][page 8]: 'NoneType' object is not subscriptable\n",
      "[portrait+photographs][page 8]: 'NoneType' object is not subscriptable\n",
      "[portrait+photographs][page 8]: 'NoneType' object is not subscriptable\n",
      "[portrait+photographs][page 9]: 'NoneType' object is not subscriptable\n",
      "[portrait+photographs][page 9]: 'NoneType' object is not subscriptable\n",
      "[portrait+photographs][page 9]: 'NoneType' object is not subscriptable\n",
      "[portrait+photographs][page 10]: 'NoneType' object is not subscriptable\n",
      "[portrait+photographs][page 10]: 'NoneType' object is not subscriptable\n",
      "[portrait+photographs][page 10]: 'NoneType' object is not subscriptable\n",
      "[portrait+photographs][page 10]: 'NoneType' object is not subscriptable\n",
      "[portrait+photographs][page 10]: 'NoneType' object is not subscriptable\n",
      "[portrait+photographs][page 11]: 'NoneType' object is not subscriptable\n",
      "[portrait+photographs][page 11]: 'NoneType' object is not subscriptable\n",
      "[portrait+photographs][page 11]: 'NoneType' object is not subscriptable\n",
      "[portrait+photographs][page 11]: 'NoneType' object is not subscriptable\n",
      "[portrait+photographs][page 12]: 'NoneType' object is not subscriptable\n",
      "[portrait+photographs][page 12]: 'NoneType' object is not subscriptable\n",
      "[portrait+photographs][page 13]: 'NoneType' object is not subscriptable\n"
     ]
    },
    {
     "name": "stderr",
     "output_type": "stream",
     "text": [
      "Ended on portrait+photographs | Downloaded 82981 images:  97%|▉| 276/286 [26:14<03:50, 23.03s/i"
     ]
    },
    {
     "name": "stdout",
     "output_type": "stream",
     "text": [
      "[portrait+photographs][page 0]: 'NoneType' object is not subscriptable\n",
      "[portrait+photographs][page 6]: 'NoneType' object is not subscriptable\n",
      "[portrait+photographs][page 6]: 'NoneType' object is not subscriptable\n",
      "[portrait+photographs][page 7]: 'NoneType' object is not subscriptable\n",
      "[portrait+photographs][page 7]: 'NoneType' object is not subscriptable\n",
      "[portrait+photographs][page 10]: 'NoneType' object is not subscriptable\n",
      "[portrait+photographs][page 18]: 'NoneType' object is not subscriptable\n",
      "[portrait+photographs][page 20]: 'NoneType' object is not subscriptable\n",
      "[portrait+photographs][page 20]: 'NoneType' object is not subscriptable\n",
      "[portrait+photographs][page 20]: 'NoneType' object is not subscriptable\n",
      "[portrait+photographs][page 20]: 'NoneType' object is not subscriptable\n"
     ]
    },
    {
     "name": "stderr",
     "output_type": "stream",
     "text": [
      "Ended on portrait+photographs | Downloaded 85053 images:  97%|▉| 277/286 [26:48<03:56, 26.31s/i"
     ]
    },
    {
     "name": "stdout",
     "output_type": "stream",
     "text": [
      "[portrait+photographs][page 0]: 'NoneType' object is not subscriptable\n",
      "[portrait+photographs][page 4]: 'NoneType' object is not subscriptable\n",
      "[portrait+photographs][page 5]: 'NoneType' object is not subscriptable\n",
      "[portrait+photographs][page 7]: 'NoneType' object is not subscriptable\n",
      "[portrait+photographs][page 12]: 'NoneType' object is not subscriptable\n",
      "[portrait+photographs][page 13]: 'NoneType' object is not subscriptable\n",
      "[portrait+photographs][page 14]: 'NoneType' object is not subscriptable\n",
      "[portrait+photographs][page 14]: 'NoneType' object is not subscriptable\n",
      "[portrait+photographs][page 14]: 'NoneType' object is not subscriptable\n",
      "[portrait+photographs][page 19]: 'NoneType' object is not subscriptable\n",
      "[portrait+photographs][page 20]: 'NoneType' object is not subscriptable\n"
     ]
    },
    {
     "name": "stderr",
     "output_type": "stream",
     "text": [
      "Ended on portrait+photographs | Downloaded 87124 images:  97%|▉| 278/286 [27:21<03:48, 28.50s/i"
     ]
    },
    {
     "name": "stdout",
     "output_type": "stream",
     "text": [
      "[portrait+photographs][page 0]: 'NoneType' object is not subscriptable\n",
      "[portrait+photographs][page 2]: 'NoneType' object is not subscriptable\n",
      "[portrait+photographs][page 2]: 'NoneType' object is not subscriptable\n",
      "[portrait+photographs][page 2]: 'NoneType' object is not subscriptable\n",
      "[portrait+photographs][page 4]: 'NoneType' object is not subscriptable\n",
      "[portrait+photographs][page 7]: 'NoneType' object is not subscriptable\n",
      "[portrait+photographs][page 7]: 'NoneType' object is not subscriptable\n",
      "[portrait+photographs][page 7]: 'NoneType' object is not subscriptable\n",
      "[portrait+photographs][page 7]: 'NoneType' object is not subscriptable\n",
      "[portrait+photographs][page 7]: 'NoneType' object is not subscriptable\n",
      "[portrait+photographs][page 10]: 'NoneType' object is not subscriptable\n",
      "[portrait+photographs][page 10]: 'NoneType' object is not subscriptable\n",
      "[portrait+photographs][page 11]: 'NoneType' object is not subscriptable\n",
      "[portrait+photographs][page 11]: 'NoneType' object is not subscriptable\n",
      "[portrait+photographs][page 11]: 'NoneType' object is not subscriptable\n",
      "[portrait+photographs][page 12]: 'NoneType' object is not subscriptable\n",
      "[portrait+photographs][page 12]: 'NoneType' object is not subscriptable\n",
      "[portrait+photographs][page 13]: 'NoneType' object is not subscriptable\n",
      "[portrait+photographs][page 13]: 'NoneType' object is not subscriptable\n",
      "[portrait+photographs][page 13]: 'NoneType' object is not subscriptable\n",
      "[portrait+photographs][page 15]: 'NoneType' object is not subscriptable\n",
      "[portrait+photographs][page 17]: 'NoneType' object is not subscriptable\n",
      "[portrait+photographs][page 19]: 'NoneType' object is not subscriptable\n",
      "[portrait+photographs][page 19]: 'NoneType' object is not subscriptable\n",
      "[portrait+photographs][page 19]: 'NoneType' object is not subscriptable\n",
      "[portrait+photographs][page 20]: 'NoneType' object is not subscriptable\n",
      "[portrait+photographs][page 20]: 'NoneType' object is not subscriptable\n"
     ]
    },
    {
     "name": "stderr",
     "output_type": "stream",
     "text": [
      "Ended on portrait+photographs | Downloaded 89179 images:  98%|▉| 279/286 [27:59<03:38, 31.24s/i"
     ]
    },
    {
     "name": "stdout",
     "output_type": "stream",
     "text": [
      "[portrait+photographs][page 0]: 'NoneType' object is not subscriptable\n",
      "[portrait+photographs][page 0]: 'NoneType' object is not subscriptable\n",
      "[portrait+photographs][page 3]: 'NoneType' object is not subscriptable\n",
      "[portrait+photographs][page 3]: 'NoneType' object is not subscriptable\n",
      "[portrait+photographs][page 4]: 'NoneType' object is not subscriptable\n",
      "[portrait+photographs][page 6]: 'NoneType' object is not subscriptable\n",
      "[portrait+photographs][page 6]: 'NoneType' object is not subscriptable\n",
      "[portrait+photographs][page 6]: 'NoneType' object is not subscriptable\n",
      "[portrait+photographs][page 8]: 'NoneType' object is not subscriptable\n",
      "[portrait+photographs][page 8]: 'NoneType' object is not subscriptable\n",
      "[portrait+photographs][page 9]: 'NoneType' object is not subscriptable\n",
      "[portrait+photographs][page 9]: 'NoneType' object is not subscriptable\n",
      "[portrait+photographs][page 9]: 'NoneType' object is not subscriptable\n",
      "[portrait+photographs][page 12]: 'NoneType' object is not subscriptable\n",
      "[portrait+photographs][page 13]: 'NoneType' object is not subscriptable\n",
      "[portrait+photographs][page 13]: 'NoneType' object is not subscriptable\n",
      "[portrait+photographs][page 13]: 'NoneType' object is not subscriptable\n",
      "[portrait+photographs][page 14]: 'NoneType' object is not subscriptable\n",
      "[portrait+photographs][page 15]: 'NoneType' object is not subscriptable\n",
      "[portrait+photographs][page 15]: 'NoneType' object is not subscriptable\n",
      "[portrait+photographs][page 15]: 'NoneType' object is not subscriptable\n",
      "[portrait+photographs][page 17]: 'NoneType' object is not subscriptable\n",
      "[portrait+photographs][page 17]: 'NoneType' object is not subscriptable\n"
     ]
    },
    {
     "name": "stderr",
     "output_type": "stream",
     "text": [
      "Ended on portrait+photographs | Downloaded 91244 images:  98%|▉| 280/286 [28:38<03:22, 33.69s/i"
     ]
    },
    {
     "name": "stdout",
     "output_type": "stream",
     "text": [
      "[portrait+photographs][page 0]: 'NoneType' object is not subscriptable\n",
      "[portrait+photographs][page 2]: 'NoneType' object is not subscriptable\n",
      "[portrait+photographs][page 2]: 'NoneType' object is not subscriptable\n",
      "[portrait+photographs][page 4]: 'NoneType' object is not subscriptable\n",
      "[portrait+photographs][page 5]: 'NoneType' object is not subscriptable\n",
      "[portrait+photographs][page 7]: 'NoneType' object is not subscriptable\n",
      "[portrait+photographs][page 8]: 'NoneType' object is not subscriptable\n",
      "[portrait+photographs][page 8]: 'NoneType' object is not subscriptable\n",
      "[portrait+photographs][page 8]: 'NoneType' object is not subscriptable\n",
      "[portrait+photographs][page 8]: 'NoneType' object is not subscriptable\n",
      "[portrait+photographs][page 11]: 'NoneType' object is not subscriptable\n",
      "[portrait+photographs][page 12]: 'NoneType' object is not subscriptable\n",
      "[portrait+photographs][page 12]: 'NoneType' object is not subscriptable\n",
      "[portrait+photographs][page 13]: 'NoneType' object is not subscriptable\n",
      "[portrait+photographs][page 14]: 'NoneType' object is not subscriptable\n",
      "[portrait+photographs][page 14]: 'NoneType' object is not subscriptable\n",
      "[portrait+photographs][page 15]: 'NoneType' object is not subscriptable\n",
      "[portrait+photographs][page 15]: 'NoneType' object is not subscriptable\n",
      "[portrait+photographs][page 17]: 'NoneType' object is not subscriptable\n",
      "[portrait+photographs][page 19]: 'NoneType' object is not subscriptable\n"
     ]
    },
    {
     "name": "stderr",
     "output_type": "stream",
     "text": [
      "Ended on portrait+photographs | Downloaded 93315 images:  98%|▉| 281/286 [29:16<02:54, 34.97s/i"
     ]
    },
    {
     "name": "stdout",
     "output_type": "stream",
     "text": [
      "[portrait+photographs][page 0]: 'NoneType' object is not subscriptable\n",
      "[portrait+photographs][page 2]: 'NoneType' object is not subscriptable\n",
      "[portrait+photographs][page 2]: 'NoneType' object is not subscriptable\n",
      "[portrait+photographs][page 2]: 'NoneType' object is not subscriptable\n",
      "[portrait+photographs][page 2]: 'NoneType' object is not subscriptable\n",
      "[portrait+photographs][page 5]: 'NoneType' object is not subscriptable\n",
      "[portrait+photographs][page 5]: 'NoneType' object is not subscriptable\n",
      "[portrait+photographs][page 5]: 'NoneType' object is not subscriptable\n",
      "[portrait+photographs][page 5]: 'NoneType' object is not subscriptable\n",
      "[portrait+photographs][page 5]: 'NoneType' object is not subscriptable\n",
      "[portrait+photographs][page 6]: 'NoneType' object is not subscriptable\n",
      "[portrait+photographs][page 7]: 'NoneType' object is not subscriptable\n",
      "[portrait+photographs][page 7]: 'NoneType' object is not subscriptable\n",
      "[portrait+photographs][page 8]: 'NoneType' object is not subscriptable\n",
      "[portrait+photographs][page 9]: 'NoneType' object is not subscriptable\n",
      "[portrait+photographs][page 9]: 'NoneType' object is not subscriptable\n",
      "[portrait+photographs][page 9]: 'NoneType' object is not subscriptable\n",
      "[portrait+photographs][page 10]: 'NoneType' object is not subscriptable\n",
      "[portrait+photographs][page 10]: 'NoneType' object is not subscriptable\n",
      "[portrait+photographs][page 11]: 'NoneType' object is not subscriptable\n",
      "[portrait+photographs][page 14]: 'NoneType' object is not subscriptable\n",
      "[portrait+photographs][page 14]: 'NoneType' object is not subscriptable\n",
      "[portrait+photographs][page 14]: 'NoneType' object is not subscriptable\n",
      "[portrait+photographs][page 14]: 'NoneType' object is not subscriptable\n",
      "[portrait+photographs][page 14]: 'NoneType' object is not subscriptable\n",
      "[portrait+photographs][page 14]: 'NoneType' object is not subscriptable\n",
      "[portrait+photographs][page 14]: 'NoneType' object is not subscriptable\n",
      "[portrait+photographs][page 15]: 'NoneType' object is not subscriptable\n",
      "[portrait+photographs][page 16]: 'NoneType' object is not subscriptable\n",
      "[portrait+photographs][page 16]: 'NoneType' object is not subscriptable\n",
      "[portrait+photographs][page 17]: 'NoneType' object is not subscriptable\n",
      "[portrait+photographs][page 17]: 'NoneType' object is not subscriptable\n",
      "[portrait+photographs][page 17]: 'NoneType' object is not subscriptable\n",
      "[portrait+photographs][page 17]: 'NoneType' object is not subscriptable\n",
      "[portrait+photographs][page 19]: 'NoneType' object is not subscriptable\n",
      "[portrait+photographs][page 19]: 'NoneType' object is not subscriptable\n",
      "[portrait+photographs][page 20]: 'NoneType' object is not subscriptable\n",
      "[portrait+photographs][page 20]: 'NoneType' object is not subscriptable\n",
      "[portrait+photographs][page 20]: 'NoneType' object is not subscriptable\n",
      "[portrait+photographs][page 20]: 'NoneType' object is not subscriptable\n"
     ]
    },
    {
     "name": "stderr",
     "output_type": "stream",
     "text": [
      "Ended on portrait+photographs | Downloaded 95359 images:  99%|▉| 282/286 [29:57<02:26, 36.55s/i"
     ]
    },
    {
     "name": "stdout",
     "output_type": "stream",
     "text": [
      "[portrait+photographs][page 0]: 'NoneType' object is not subscriptable\n",
      "[portrait+photographs][page 2]: 'NoneType' object is not subscriptable\n",
      "[portrait+photographs][page 2]: 'NoneType' object is not subscriptable\n",
      "[portrait+photographs][page 2]: 'NoneType' object is not subscriptable\n",
      "[portrait+photographs][page 5]: 'NoneType' object is not subscriptable\n",
      "[portrait+photographs][page 5]: 'NoneType' object is not subscriptable\n",
      "[portrait+photographs][page 5]: 'NoneType' object is not subscriptable\n",
      "[portrait+photographs][page 5]: 'NoneType' object is not subscriptable\n",
      "[portrait+photographs][page 5]: 'NoneType' object is not subscriptable\n",
      "[portrait+photographs][page 5]: 'NoneType' object is not subscriptable\n",
      "[portrait+photographs][page 7]: 'NoneType' object is not subscriptable\n",
      "[portrait+photographs][page 7]: 'NoneType' object is not subscriptable\n",
      "[portrait+photographs][page 7]: 'NoneType' object is not subscriptable\n",
      "[portrait+photographs][page 8]: 'NoneType' object is not subscriptable\n",
      "[portrait+photographs][page 9]: 'NoneType' object is not subscriptable\n",
      "[portrait+photographs][page 9]: 'NoneType' object is not subscriptable\n",
      "[portrait+photographs][page 10]: 'NoneType' object is not subscriptable\n",
      "[portrait+photographs][page 13]: 'NoneType' object is not subscriptable\n",
      "[portrait+photographs][page 13]: 'NoneType' object is not subscriptable\n",
      "[portrait+photographs][page 13]: 'NoneType' object is not subscriptable\n",
      "[portrait+photographs][page 13]: 'NoneType' object is not subscriptable\n",
      "[portrait+photographs][page 14]: 'NoneType' object is not subscriptable\n",
      "[portrait+photographs][page 14]: 'NoneType' object is not subscriptable\n",
      "[portrait+photographs][page 14]: 'NoneType' object is not subscriptable\n",
      "[portrait+photographs][page 15]: 'NoneType' object is not subscriptable\n",
      "[portrait+photographs][page 15]: 'NoneType' object is not subscriptable\n",
      "[portrait+photographs][page 16]: 'NoneType' object is not subscriptable\n",
      "[portrait+photographs][page 16]: 'NoneType' object is not subscriptable\n",
      "[portrait+photographs][page 16]: 'NoneType' object is not subscriptable\n",
      "[portrait+photographs][page 18]: 'NoneType' object is not subscriptable\n",
      "[portrait+photographs][page 18]: 'NoneType' object is not subscriptable\n",
      "[portrait+photographs][page 18]: 'NoneType' object is not subscriptable\n",
      "[portrait+photographs][page 18]: 'NoneType' object is not subscriptable\n",
      "[portrait+photographs][page 19]: 'NoneType' object is not subscriptable\n",
      "[portrait+photographs][page 19]: 'NoneType' object is not subscriptable\n",
      "[portrait+photographs][page 20]: 'NoneType' object is not subscriptable\n",
      "[portrait+photographs][page 20]: 'NoneType' object is not subscriptable\n"
     ]
    },
    {
     "name": "stderr",
     "output_type": "stream",
     "text": [
      "Ended on portrait+photographs | Downloaded 97407 images:  99%|▉| 283/286 [30:35<01:51, 37.23s/i"
     ]
    },
    {
     "name": "stdout",
     "output_type": "stream",
     "text": [
      "[portrait+photographs][page 18]: 'NoneType' object is not subscriptable\n"
     ]
    },
    {
     "name": "stderr",
     "output_type": "stream",
     "text": [
      "Ended on portrait+photographs | Downloaded 101096 images: 100%|▉| 285/286 [31:44<00:35, 35.75s/"
     ]
    },
    {
     "name": "stdout",
     "output_type": "stream",
     "text": [
      "[portrait+photographs][page 6]: 'NoneType' object is not subscriptable\n"
     ]
    },
    {
     "name": "stderr",
     "output_type": "stream",
     "text": [
      "Ended on portrait+photographs | Downloaded 103183 images: 100%|█| 286/286 [32:18<00:00,  6.78s/\n"
     ]
    }
   ],
   "source": [
    "pbar = tqdm(urls)\n",
    "for (url, label) in pbar:\n",
    "    total_images = get_loc_images(url, label, max_images=2000, df_dir=\"new.csv\")\n",
    "    pbar.set_description(f\"[{label}] : Downloaded {total_images} images\")"
   ]
  },
  {
   "cell_type": "code",
   "execution_count": 130,
   "metadata": {
    "collapsed": false,
    "jupyter": {
     "outputs_hidden": false
    },
    "pycharm": {
     "name": "#%%\n"
    }
   },
   "outputs": [],
   "source": [
    "df = pd.read_csv(\"new.csv\")"
   ]
  },
  {
   "cell_type": "code",
   "execution_count": 100,
   "metadata": {
    "collapsed": false,
    "jupyter": {
     "outputs_hidden": false
    },
    "pycharm": {
     "name": "#%%\n"
    }
   },
   "outputs": [
    {
     "data": {
      "text/html": [
       "<div>\n",
       "<style scoped>\n",
       "    .dataframe tbody tr th:only-of-type {\n",
       "        vertical-align: middle;\n",
       "    }\n",
       "\n",
       "    .dataframe tbody tr th {\n",
       "        vertical-align: top;\n",
       "    }\n",
       "\n",
       "    .dataframe thead th {\n",
       "        text-align: right;\n",
       "    }\n",
       "</style>\n",
       "<table border=\"1\" class=\"dataframe\">\n",
       "  <thead>\n",
       "    <tr style=\"text-align: right;\">\n",
       "      <th></th>\n",
       "      <th>id</th>\n",
       "      <th>image_permalink</th>\n",
       "      <th>url</th>\n",
       "      <th>year</th>\n",
       "      <th>description</th>\n",
       "      <th>access_restricted</th>\n",
       "    </tr>\n",
       "    <tr>\n",
       "      <th>technique</th>\n",
       "      <th></th>\n",
       "      <th></th>\n",
       "      <th></th>\n",
       "      <th></th>\n",
       "      <th></th>\n",
       "      <th></th>\n",
       "    </tr>\n",
       "  </thead>\n",
       "  <tbody>\n",
       "    <tr>\n",
       "      <th>acetate+negatives</th>\n",
       "      <td>11948</td>\n",
       "      <td>11948</td>\n",
       "      <td>11944</td>\n",
       "      <td>11948</td>\n",
       "      <td>11948</td>\n",
       "      <td>11948</td>\n",
       "    </tr>\n",
       "    <tr>\n",
       "      <th>albumen+prints</th>\n",
       "      <td>10103</td>\n",
       "      <td>10120</td>\n",
       "      <td>10091</td>\n",
       "      <td>10120</td>\n",
       "      <td>10120</td>\n",
       "      <td>10120</td>\n",
       "    </tr>\n",
       "    <tr>\n",
       "      <th>ambrotypes</th>\n",
       "      <td>841</td>\n",
       "      <td>841</td>\n",
       "      <td>839</td>\n",
       "      <td>841</td>\n",
       "      <td>841</td>\n",
       "      <td>841</td>\n",
       "    </tr>\n",
       "    <tr>\n",
       "      <th>cabinet+photographs</th>\n",
       "      <td>474</td>\n",
       "      <td>475</td>\n",
       "      <td>475</td>\n",
       "      <td>475</td>\n",
       "      <td>475</td>\n",
       "      <td>475</td>\n",
       "    </tr>\n",
       "    <tr>\n",
       "      <th>cartes+de+visite</th>\n",
       "      <td>3140</td>\n",
       "      <td>3145</td>\n",
       "      <td>3090</td>\n",
       "      <td>3145</td>\n",
       "      <td>3145</td>\n",
       "      <td>3145</td>\n",
       "    </tr>\n",
       "    <tr>\n",
       "      <th>cyanotypes</th>\n",
       "      <td>954</td>\n",
       "      <td>954</td>\n",
       "      <td>954</td>\n",
       "      <td>951</td>\n",
       "      <td>954</td>\n",
       "      <td>954</td>\n",
       "    </tr>\n",
       "    <tr>\n",
       "      <th>daguerreotypes</th>\n",
       "      <td>919</td>\n",
       "      <td>919</td>\n",
       "      <td>915</td>\n",
       "      <td>919</td>\n",
       "      <td>919</td>\n",
       "      <td>919</td>\n",
       "    </tr>\n",
       "    <tr>\n",
       "      <th>dry+plate+negatives</th>\n",
       "      <td>15708</td>\n",
       "      <td>15708</td>\n",
       "      <td>15708</td>\n",
       "      <td>15708</td>\n",
       "      <td>15708</td>\n",
       "      <td>15708</td>\n",
       "    </tr>\n",
       "    <tr>\n",
       "      <th>gelatin+silver+prints</th>\n",
       "      <td>9261</td>\n",
       "      <td>9267</td>\n",
       "      <td>9252</td>\n",
       "      <td>9234</td>\n",
       "      <td>9267</td>\n",
       "      <td>9267</td>\n",
       "    </tr>\n",
       "    <tr>\n",
       "      <th>nitrate+negatives</th>\n",
       "      <td>13515</td>\n",
       "      <td>13515</td>\n",
       "      <td>13493</td>\n",
       "      <td>13515</td>\n",
       "      <td>13515</td>\n",
       "      <td>13515</td>\n",
       "    </tr>\n",
       "    <tr>\n",
       "      <th>portrait+photographs</th>\n",
       "      <td>32737</td>\n",
       "      <td>34210</td>\n",
       "      <td>34123</td>\n",
       "      <td>34207</td>\n",
       "      <td>34210</td>\n",
       "      <td>34210</td>\n",
       "    </tr>\n",
       "    <tr>\n",
       "      <th>tintypes</th>\n",
       "      <td>1176</td>\n",
       "      <td>1178</td>\n",
       "      <td>1178</td>\n",
       "      <td>1177</td>\n",
       "      <td>1178</td>\n",
       "      <td>1178</td>\n",
       "    </tr>\n",
       "    <tr>\n",
       "      <th>wet+collodion+negatives</th>\n",
       "      <td>903</td>\n",
       "      <td>903</td>\n",
       "      <td>903</td>\n",
       "      <td>903</td>\n",
       "      <td>903</td>\n",
       "      <td>903</td>\n",
       "    </tr>\n",
       "  </tbody>\n",
       "</table>\n",
       "</div>"
      ],
      "text/plain": [
       "                            id  image_permalink    url   year  description  \\\n",
       "technique                                                                    \n",
       "acetate+negatives        11948            11948  11944  11948        11948   \n",
       "albumen+prints           10103            10120  10091  10120        10120   \n",
       "ambrotypes                 841              841    839    841          841   \n",
       "cabinet+photographs        474              475    475    475          475   \n",
       "cartes+de+visite          3140             3145   3090   3145         3145   \n",
       "cyanotypes                 954              954    954    951          954   \n",
       "daguerreotypes             919              919    915    919          919   \n",
       "dry+plate+negatives      15708            15708  15708  15708        15708   \n",
       "gelatin+silver+prints     9261             9267   9252   9234         9267   \n",
       "nitrate+negatives        13515            13515  13493  13515        13515   \n",
       "portrait+photographs     32737            34210  34123  34207        34210   \n",
       "tintypes                  1176             1178   1178   1177         1178   \n",
       "wet+collodion+negatives    903              903    903    903          903   \n",
       "\n",
       "                         access_restricted  \n",
       "technique                                   \n",
       "acetate+negatives                    11948  \n",
       "albumen+prints                       10120  \n",
       "ambrotypes                             841  \n",
       "cabinet+photographs                    475  \n",
       "cartes+de+visite                      3145  \n",
       "cyanotypes                             954  \n",
       "daguerreotypes                         919  \n",
       "dry+plate+negatives                  15708  \n",
       "gelatin+silver+prints                 9267  \n",
       "nitrate+negatives                    13515  \n",
       "portrait+photographs                 34210  \n",
       "tintypes                              1178  \n",
       "wet+collodion+negatives                903  "
      ]
     },
     "execution_count": 100,
     "metadata": {},
     "output_type": "execute_result"
    }
   ],
   "source": [
    "df.groupby(\"technique\").count()"
   ]
  },
  {
   "cell_type": "code",
   "execution_count": 101,
   "metadata": {
    "collapsed": false,
    "jupyter": {
     "outputs_hidden": false
    },
    "pycharm": {
     "name": "#%%\n"
    }
   },
   "outputs": [],
   "source": [
    "import seaborn as sns\n",
    "\n",
    "from matplotlib import rcParams\n",
    "\n",
    "rcParams['figure.figsize'] = 15,8"
   ]
  },
  {
   "cell_type": "code",
   "execution_count": 105,
   "metadata": {
    "collapsed": false,
    "jupyter": {
     "outputs_hidden": false
    },
    "pycharm": {
     "name": "#%%\n"
    }
   },
   "outputs": [],
   "source": [
    "df_sampled = df.sample(10_000).sort_values(by=\"year\")"
   ]
  },
  {
   "cell_type": "code",
   "execution_count": 106,
   "metadata": {
    "collapsed": false,
    "jupyter": {
     "outputs_hidden": false
    },
    "pycharm": {
     "name": "#%%\n"
    }
   },
   "outputs": [
    {
     "data": {
      "text/plain": [
       "<AxesSubplot:xlabel='year', ylabel='technique'>"
      ]
     },
     "execution_count": 106,
     "metadata": {},
     "output_type": "execute_result"
    },
    {
     "data": {
      "image/png": "[encoded data removed]",
      "text/plain": [
       "<Figure size 1080x576 with 1 Axes>"
      ]
     },
     "metadata": {},
     "output_type": "display_data"
    }
   ],
   "source": [
    "sns.boxplot(x=\"year\", y=\"technique\", data=df_sampled.sort_values(\"year\"))"
   ]
  },
  {
   "cell_type": "code",
   "execution_count": 107,
   "metadata": {
    "collapsed": false,
    "jupyter": {
     "outputs_hidden": false
    },
    "pycharm": {
     "name": "#%%\n"
    }
   },
   "outputs": [],
   "source": [
    "def to_5_years(year: int) -> str:\n",
    "    if year is None:\n",
    "        return \"None\"\n",
    "    century, decade, unit = str(year)[:2], str(year)[2], str(year)[3]\n",
    "    if int(unit) < 5:\n",
    "        return f\"{century}{decade}0-4\"\n",
    "    return f\"{century}{decade}5-9\""
   ]
  },
  {
   "cell_type": "code",
   "execution_count": 138,
   "metadata": {
    "collapsed": false,
    "jupyter": {
     "outputs_hidden": false
    },
    "pycharm": {
     "name": "#%%\n"
    }
   },
   "outputs": [],
   "source": [
    "def make_filename(id_, year, technique):\n",
    "    try:\n",
    "        technique = technique.replace(\"+\", \"\")\n",
    "        return os.path.join(to_5_years(int(year)), f\"{str(int(id_))}_{technique}_{int(year)}.jpg\")\n",
    "    except Exception as e:\n",
    "        return pd.NA"
   ]
  },
  {
   "cell_type": "code",
   "execution_count": 120,
   "metadata": {
    "collapsed": false,
    "jupyter": {
     "outputs_hidden": false
    },
    "pycharm": {
     "name": "#%%\n"
    }
   },
   "outputs": [],
   "source": [
    "import numpy as np"
   ]
  },
  {
   "cell_type": "code",
   "execution_count": 128,
   "metadata": {
    "collapsed": false,
    "jupyter": {
     "outputs_hidden": false
    },
    "pycharm": {
     "name": "#%%\n"
    }
   },
   "outputs": [
    {
     "ename": "ValueError",
     "evalue": "invalid literal for int() with base 10: '2015650656.0'",
     "output_type": "error",
     "traceback": [
      "\u001B[0;31m---------------------------------------------------------------------------\u001B[0m",
      "\u001B[0;31mValueError\u001B[0m                                Traceback (most recent call last)",
      "Input \u001B[0;32mIn [128]\u001B[0m, in \u001B[0;36m<cell line: 1>\u001B[0;34m()\u001B[0m\n\u001B[0;32m----> 1\u001B[0m df[\u001B[38;5;124m\"\u001B[39m\u001B[38;5;124mid\u001B[39m\u001B[38;5;124m\"\u001B[39m] \u001B[38;5;241m=\u001B[39m \u001B[43mdf\u001B[49m\u001B[43m[\u001B[49m\u001B[38;5;124;43m\"\u001B[39;49m\u001B[38;5;124;43mid\u001B[39;49m\u001B[38;5;124;43m\"\u001B[39;49m\u001B[43m]\u001B[49m\u001B[38;5;241;43m.\u001B[39;49m\u001B[43mapply\u001B[49m\u001B[43m(\u001B[49m\u001B[38;5;28;43;01mlambda\u001B[39;49;00m\u001B[43m \u001B[49m\u001B[43mx\u001B[49m\u001B[43m:\u001B[49m\u001B[43m \u001B[49m\u001B[38;5;28;43mstr\u001B[39;49m\u001B[43m(\u001B[49m\u001B[38;5;28;43mint\u001B[39;49m\u001B[43m(\u001B[49m\u001B[43mx\u001B[49m\u001B[43m)\u001B[49m\u001B[43m)\u001B[49m\u001B[43m \u001B[49m\u001B[38;5;28;43;01mif\u001B[39;49;00m\u001B[43m \u001B[49m\u001B[43mpd\u001B[49m\u001B[38;5;241;43m.\u001B[39;49m\u001B[43mnotna\u001B[49m\u001B[43m(\u001B[49m\u001B[43mx\u001B[49m\u001B[43m)\u001B[49m\u001B[43m \u001B[49m\u001B[38;5;28;43;01melse\u001B[39;49;00m\u001B[43m \u001B[49m\u001B[38;5;28;43;01mNone\u001B[39;49;00m\u001B[43m)\u001B[49m\n",
      "File \u001B[0;32m~/.pyenv/versions/miniforge3/envs/tf/lib/python3.9/site-packages/pandas/core/series.py:4433\u001B[0m, in \u001B[0;36mSeries.apply\u001B[0;34m(self, func, convert_dtype, args, **kwargs)\u001B[0m\n\u001B[1;32m   4323\u001B[0m \u001B[38;5;28;01mdef\u001B[39;00m \u001B[38;5;21mapply\u001B[39m(\n\u001B[1;32m   4324\u001B[0m     \u001B[38;5;28mself\u001B[39m,\n\u001B[1;32m   4325\u001B[0m     func: AggFuncType,\n\u001B[0;32m   (...)\u001B[0m\n\u001B[1;32m   4328\u001B[0m     \u001B[38;5;241m*\u001B[39m\u001B[38;5;241m*\u001B[39mkwargs,\n\u001B[1;32m   4329\u001B[0m ) \u001B[38;5;241m-\u001B[39m\u001B[38;5;241m>\u001B[39m DataFrame \u001B[38;5;241m|\u001B[39m Series:\n\u001B[1;32m   4330\u001B[0m     \u001B[38;5;124;03m\"\"\"\u001B[39;00m\n\u001B[1;32m   4331\u001B[0m \u001B[38;5;124;03m    Invoke function on values of Series.\u001B[39;00m\n\u001B[1;32m   4332\u001B[0m \n\u001B[0;32m   (...)\u001B[0m\n\u001B[1;32m   4431\u001B[0m \u001B[38;5;124;03m    dtype: float64\u001B[39;00m\n\u001B[1;32m   4432\u001B[0m \u001B[38;5;124;03m    \"\"\"\u001B[39;00m\n\u001B[0;32m-> 4433\u001B[0m     \u001B[38;5;28;01mreturn\u001B[39;00m \u001B[43mSeriesApply\u001B[49m\u001B[43m(\u001B[49m\u001B[38;5;28;43mself\u001B[39;49m\u001B[43m,\u001B[49m\u001B[43m \u001B[49m\u001B[43mfunc\u001B[49m\u001B[43m,\u001B[49m\u001B[43m \u001B[49m\u001B[43mconvert_dtype\u001B[49m\u001B[43m,\u001B[49m\u001B[43m \u001B[49m\u001B[43margs\u001B[49m\u001B[43m,\u001B[49m\u001B[43m \u001B[49m\u001B[43mkwargs\u001B[49m\u001B[43m)\u001B[49m\u001B[38;5;241;43m.\u001B[39;49m\u001B[43mapply\u001B[49m\u001B[43m(\u001B[49m\u001B[43m)\u001B[49m\n",
      "File \u001B[0;32m~/.pyenv/versions/miniforge3/envs/tf/lib/python3.9/site-packages/pandas/core/apply.py:1082\u001B[0m, in \u001B[0;36mSeriesApply.apply\u001B[0;34m(self)\u001B[0m\n\u001B[1;32m   1078\u001B[0m \u001B[38;5;28;01mif\u001B[39;00m \u001B[38;5;28misinstance\u001B[39m(\u001B[38;5;28mself\u001B[39m\u001B[38;5;241m.\u001B[39mf, \u001B[38;5;28mstr\u001B[39m):\n\u001B[1;32m   1079\u001B[0m     \u001B[38;5;66;03m# if we are a string, try to dispatch\u001B[39;00m\n\u001B[1;32m   1080\u001B[0m     \u001B[38;5;28;01mreturn\u001B[39;00m \u001B[38;5;28mself\u001B[39m\u001B[38;5;241m.\u001B[39mapply_str()\n\u001B[0;32m-> 1082\u001B[0m \u001B[38;5;28;01mreturn\u001B[39;00m \u001B[38;5;28;43mself\u001B[39;49m\u001B[38;5;241;43m.\u001B[39;49m\u001B[43mapply_standard\u001B[49m\u001B[43m(\u001B[49m\u001B[43m)\u001B[49m\n",
      "File \u001B[0;32m~/.pyenv/versions/miniforge3/envs/tf/lib/python3.9/site-packages/pandas/core/apply.py:1137\u001B[0m, in \u001B[0;36mSeriesApply.apply_standard\u001B[0;34m(self)\u001B[0m\n\u001B[1;32m   1131\u001B[0m         values \u001B[38;5;241m=\u001B[39m obj\u001B[38;5;241m.\u001B[39mastype(\u001B[38;5;28mobject\u001B[39m)\u001B[38;5;241m.\u001B[39m_values\n\u001B[1;32m   1132\u001B[0m         \u001B[38;5;66;03m# error: Argument 2 to \"map_infer\" has incompatible type\u001B[39;00m\n\u001B[1;32m   1133\u001B[0m         \u001B[38;5;66;03m# \"Union[Callable[..., Any], str, List[Union[Callable[..., Any], str]],\u001B[39;00m\n\u001B[1;32m   1134\u001B[0m         \u001B[38;5;66;03m# Dict[Hashable, Union[Union[Callable[..., Any], str],\u001B[39;00m\n\u001B[1;32m   1135\u001B[0m         \u001B[38;5;66;03m# List[Union[Callable[..., Any], str]]]]]\"; expected\u001B[39;00m\n\u001B[1;32m   1136\u001B[0m         \u001B[38;5;66;03m# \"Callable[[Any], Any]\"\u001B[39;00m\n\u001B[0;32m-> 1137\u001B[0m         mapped \u001B[38;5;241m=\u001B[39m \u001B[43mlib\u001B[49m\u001B[38;5;241;43m.\u001B[39;49m\u001B[43mmap_infer\u001B[49m\u001B[43m(\u001B[49m\n\u001B[1;32m   1138\u001B[0m \u001B[43m            \u001B[49m\u001B[43mvalues\u001B[49m\u001B[43m,\u001B[49m\n\u001B[1;32m   1139\u001B[0m \u001B[43m            \u001B[49m\u001B[43mf\u001B[49m\u001B[43m,\u001B[49m\u001B[43m  \u001B[49m\u001B[38;5;66;43;03m# type: ignore[arg-type]\u001B[39;49;00m\n\u001B[1;32m   1140\u001B[0m \u001B[43m            \u001B[49m\u001B[43mconvert\u001B[49m\u001B[38;5;241;43m=\u001B[39;49m\u001B[38;5;28;43mself\u001B[39;49m\u001B[38;5;241;43m.\u001B[39;49m\u001B[43mconvert_dtype\u001B[49m\u001B[43m,\u001B[49m\n\u001B[1;32m   1141\u001B[0m \u001B[43m        \u001B[49m\u001B[43m)\u001B[49m\n\u001B[1;32m   1143\u001B[0m \u001B[38;5;28;01mif\u001B[39;00m \u001B[38;5;28mlen\u001B[39m(mapped) \u001B[38;5;129;01mand\u001B[39;00m \u001B[38;5;28misinstance\u001B[39m(mapped[\u001B[38;5;241m0\u001B[39m], ABCSeries):\n\u001B[1;32m   1144\u001B[0m     \u001B[38;5;66;03m# GH#43986 Need to do list(mapped) in order to get treated as nested\u001B[39;00m\n\u001B[1;32m   1145\u001B[0m     \u001B[38;5;66;03m#  See also GH#25959 regarding EA support\u001B[39;00m\n\u001B[1;32m   1146\u001B[0m     \u001B[38;5;28;01mreturn\u001B[39;00m obj\u001B[38;5;241m.\u001B[39m_constructor_expanddim(\u001B[38;5;28mlist\u001B[39m(mapped), index\u001B[38;5;241m=\u001B[39mobj\u001B[38;5;241m.\u001B[39mindex)\n",
      "File \u001B[0;32mpandas/_libs/lib.pyx:2870\u001B[0m, in \u001B[0;36mpandas._libs.lib.map_infer\u001B[0;34m()\u001B[0m\n",
      "Input \u001B[0;32mIn [128]\u001B[0m, in \u001B[0;36m<lambda>\u001B[0;34m(x)\u001B[0m\n\u001B[0;32m----> 1\u001B[0m df[\u001B[38;5;124m\"\u001B[39m\u001B[38;5;124mid\u001B[39m\u001B[38;5;124m\"\u001B[39m] \u001B[38;5;241m=\u001B[39m df[\u001B[38;5;124m\"\u001B[39m\u001B[38;5;124mid\u001B[39m\u001B[38;5;124m\"\u001B[39m]\u001B[38;5;241m.\u001B[39mapply(\u001B[38;5;28;01mlambda\u001B[39;00m x: \u001B[38;5;28mstr\u001B[39m(\u001B[38;5;28;43mint\u001B[39;49m\u001B[43m(\u001B[49m\u001B[43mx\u001B[49m\u001B[43m)\u001B[49m) \u001B[38;5;28;01mif\u001B[39;00m pd\u001B[38;5;241m.\u001B[39mnotna(x) \u001B[38;5;28;01melse\u001B[39;00m \u001B[38;5;28;01mNone\u001B[39;00m)\n",
      "\u001B[0;31mValueError\u001B[0m: invalid literal for int() with base 10: '2015650656.0'"
     ]
    }
   ],
   "source": [
    "df[\"id\"] = df[\"id\"].apply(lambda x: str(int(x)) if pd.notna(x) else None)"
   ]
  },
  {
   "cell_type": "code",
   "execution_count": 139,
   "metadata": {
    "collapsed": false,
    "jupyter": {
     "outputs_hidden": false
    },
    "pycharm": {
     "name": "#%%\n"
    }
   },
   "outputs": [],
   "source": [
    "df[\"filename\"] = df.apply(lambda x: make_filename(x[\"id\"], x[\"year\"], x[\"technique\"]), axis=1)"
   ]
  },
  {
   "cell_type": "code",
   "execution_count": 127,
   "metadata": {
    "collapsed": false,
    "jupyter": {
     "outputs_hidden": false
    },
    "pycharm": {
     "name": "#%%\n"
    }
   },
   "outputs": [
    {
     "data": {
      "text/plain": [
       "dtype('O')"
      ]
     },
     "execution_count": 127,
     "metadata": {},
     "output_type": "execute_result"
    }
   ],
   "source": [
    "df[\"id\"].dtype"
   ]
  },
  {
   "cell_type": "code",
   "execution_count": 146,
   "metadata": {
    "collapsed": false,
    "jupyter": {
     "outputs_hidden": false
    },
    "pycharm": {
     "name": "#%%\n"
    }
   },
   "outputs": [],
   "source": [
    "df.dropna(subset=[\"filename\", \"url\"], inplace=True)"
   ]
  },
  {
   "cell_type": "code",
   "execution_count": 145,
   "metadata": {
    "collapsed": false,
    "jupyter": {
     "outputs_hidden": false
    },
    "pycharm": {
     "name": "#%%\n"
    }
   },
   "outputs": [
    {
     "data": {
      "text/plain": [
       "(103183, 8)"
      ]
     },
     "execution_count": 145,
     "metadata": {},
     "output_type": "execute_result"
    }
   ],
   "source": [
    "df.shape"
   ]
  },
  {
   "cell_type": "code",
   "execution_count": 148,
   "metadata": {
    "collapsed": false,
    "jupyter": {
     "outputs_hidden": false
    },
    "pycharm": {
     "name": "#%%\n"
    }
   },
   "outputs": [],
   "source": [
    "df[\"year\"] = df[\"year\"].astype(int)"
   ]
  },
  {
   "cell_type": "code",
   "execution_count": 151,
   "metadata": {
    "collapsed": false,
    "jupyter": {
     "outputs_hidden": false
    },
    "pycharm": {
     "name": "#%%\n"
    }
   },
   "outputs": [],
   "source": [
    "df = df.loc[(df[\"year\"] < 1950) & (df[\"year\"] >= 1840)]"
   ]
  },
  {
   "cell_type": "code",
   "execution_count": 153,
   "metadata": {
    "collapsed": false,
    "jupyter": {
     "outputs_hidden": false
    },
    "pycharm": {
     "name": "#%%\n"
    }
   },
   "outputs": [],
   "source": [
    "df[\"id\"] = df[\"id\"].astype(int)"
   ]
  },
  {
   "cell_type": "code",
   "execution_count": 154,
   "metadata": {
    "collapsed": false,
    "jupyter": {
     "outputs_hidden": false
    },
    "pycharm": {
     "name": "#%%\n"
    }
   },
   "outputs": [
    {
     "data": {
      "text/html": [
       "<div>\n",
       "<style scoped>\n",
       "    .dataframe tbody tr th:only-of-type {\n",
       "        vertical-align: middle;\n",
       "    }\n",
       "\n",
       "    .dataframe tbody tr th {\n",
       "        vertical-align: top;\n",
       "    }\n",
       "\n",
       "    .dataframe thead th {\n",
       "        text-align: right;\n",
       "    }\n",
       "</style>\n",
       "<table border=\"1\" class=\"dataframe\">\n",
       "  <thead>\n",
       "    <tr style=\"text-align: right;\">\n",
       "      <th></th>\n",
       "      <th>id</th>\n",
       "      <th>image_permalink</th>\n",
       "      <th>url</th>\n",
       "      <th>year</th>\n",
       "      <th>description</th>\n",
       "      <th>access_restricted</th>\n",
       "      <th>technique</th>\n",
       "      <th>filename</th>\n",
       "    </tr>\n",
       "  </thead>\n",
       "  <tbody>\n",
       "    <tr>\n",
       "      <th>0</th>\n",
       "      <td>2015650656</td>\n",
       "      <td>http://www.loc.gov/item/2015650656/</td>\n",
       "      <td>https://tile.loc.gov/storage-services/service/...</td>\n",
       "      <td>1845</td>\n",
       "      <td>2 photographs : daguerreotype and tintype ; da...</td>\n",
       "      <td>False</td>\n",
       "      <td>tintypes</td>\n",
       "      <td>1845-9/2015650656_tintypes_1845.jpg</td>\n",
       "    </tr>\n",
       "    <tr>\n",
       "      <th>1</th>\n",
       "      <td>2006688336</td>\n",
       "      <td>http://www.loc.gov/item/2006688336/</td>\n",
       "      <td>https://tile.loc.gov/storage-services/service/...</td>\n",
       "      <td>1853</td>\n",
       "      <td>1 photograph : approximate sixth-plate tintype...</td>\n",
       "      <td>False</td>\n",
       "      <td>tintypes</td>\n",
       "      <td>1850-4/2006688336_tintypes_1853.jpg</td>\n",
       "    </tr>\n",
       "    <tr>\n",
       "      <th>2</th>\n",
       "      <td>650013</td>\n",
       "      <td>http://www.loc.gov/item/00650013/</td>\n",
       "      <td>https://www.loc.gov/static/images/original-for...</td>\n",
       "      <td>1850</td>\n",
       "      <td>11 photographic prints on cartes de visite mou...</td>\n",
       "      <td>True</td>\n",
       "      <td>tintypes</td>\n",
       "      <td>1850-4/650013_tintypes_1850.jpg</td>\n",
       "    </tr>\n",
       "    <tr>\n",
       "      <th>3</th>\n",
       "      <td>2006688335</td>\n",
       "      <td>http://www.loc.gov/item/2006688335/</td>\n",
       "      <td>https://tile.loc.gov/storage-services/service/...</td>\n",
       "      <td>1853</td>\n",
       "      <td>1 photograph : approximate sixth-plate tintype...</td>\n",
       "      <td>False</td>\n",
       "      <td>tintypes</td>\n",
       "      <td>1850-4/2006688335_tintypes_1853.jpg</td>\n",
       "    </tr>\n",
       "    <tr>\n",
       "      <th>4</th>\n",
       "      <td>2006688337</td>\n",
       "      <td>http://www.loc.gov/item/2006688337/</td>\n",
       "      <td>https://tile.loc.gov/storage-services/service/...</td>\n",
       "      <td>1853</td>\n",
       "      <td>1 photograph : approximate sixth-plate tintype...</td>\n",
       "      <td>False</td>\n",
       "      <td>tintypes</td>\n",
       "      <td>1850-4/2006688337_tintypes_1853.jpg</td>\n",
       "    </tr>\n",
       "    <tr>\n",
       "      <th>...</th>\n",
       "      <td>...</td>\n",
       "      <td>...</td>\n",
       "      <td>...</td>\n",
       "      <td>...</td>\n",
       "      <td>...</td>\n",
       "      <td>...</td>\n",
       "      <td>...</td>\n",
       "      <td>...</td>\n",
       "    </tr>\n",
       "    <tr>\n",
       "      <th>103170</th>\n",
       "      <td>94510435</td>\n",
       "      <td>http://www.loc.gov/item/94510435/</td>\n",
       "      <td>https://tile.loc.gov/storage-services/service/...</td>\n",
       "      <td>1945</td>\n",
       "      <td>1 photographic print. | Emperor Hirohito, wear...</td>\n",
       "      <td>True</td>\n",
       "      <td>portrait+photographs</td>\n",
       "      <td>1945-9/94510435_portraitphotographs_1945.jpg</td>\n",
       "    </tr>\n",
       "    <tr>\n",
       "      <th>103171</th>\n",
       "      <td>2018722831</td>\n",
       "      <td>http://www.loc.gov/item/2018722831/</td>\n",
       "      <td>https://tile.loc.gov/storage-services/service/...</td>\n",
       "      <td>1945</td>\n",
       "      <td>1 negative : safety ; 4x5 in.</td>\n",
       "      <td>False</td>\n",
       "      <td>portrait+photographs</td>\n",
       "      <td>1945-9/2018722831_portraitphotographs_1945.jpg</td>\n",
       "    </tr>\n",
       "    <tr>\n",
       "      <th>103175</th>\n",
       "      <td>2021669950</td>\n",
       "      <td>http://www.loc.gov/item/2021669950/</td>\n",
       "      <td>https://tile.loc.gov/image-services/iiif/servi...</td>\n",
       "      <td>1946</td>\n",
       "      <td>The Florida sponge diving industry developed i...</td>\n",
       "      <td>False</td>\n",
       "      <td>portrait+photographs</td>\n",
       "      <td>1945-9/2021669950_portraitphotographs_1946.jpg</td>\n",
       "    </tr>\n",
       "    <tr>\n",
       "      <th>103178</th>\n",
       "      <td>2005676941</td>\n",
       "      <td>http://www.loc.gov/item/2005676941/</td>\n",
       "      <td>https://tile.loc.gov/storage-services/service/...</td>\n",
       "      <td>1948</td>\n",
       "      <td>1 photographic print. | Photograph shows Virgi...</td>\n",
       "      <td>True</td>\n",
       "      <td>portrait+photographs</td>\n",
       "      <td>1945-9/2005676941_portraitphotographs_1948.jpg</td>\n",
       "    </tr>\n",
       "    <tr>\n",
       "      <th>103179</th>\n",
       "      <td>2004663503</td>\n",
       "      <td>http://www.loc.gov/item/2004663503/</td>\n",
       "      <td>https://tile.loc.gov/storage-services/service/...</td>\n",
       "      <td>1948</td>\n",
       "      <td>1 photographic print : gelatin silver.</td>\n",
       "      <td>False</td>\n",
       "      <td>portrait+photographs</td>\n",
       "      <td>1945-9/2004663503_portraitphotographs_1948.jpg</td>\n",
       "    </tr>\n",
       "  </tbody>\n",
       "</table>\n",
       "<p>101627 rows × 8 columns</p>\n",
       "</div>"
      ],
      "text/plain": [
       "                id                      image_permalink  \\\n",
       "0       2015650656  http://www.loc.gov/item/2015650656/   \n",
       "1       2006688336  http://www.loc.gov/item/2006688336/   \n",
       "2           650013    http://www.loc.gov/item/00650013/   \n",
       "3       2006688335  http://www.loc.gov/item/2006688335/   \n",
       "4       2006688337  http://www.loc.gov/item/2006688337/   \n",
       "...            ...                                  ...   \n",
       "103170    94510435    http://www.loc.gov/item/94510435/   \n",
       "103171  2018722831  http://www.loc.gov/item/2018722831/   \n",
       "103175  2021669950  http://www.loc.gov/item/2021669950/   \n",
       "103178  2005676941  http://www.loc.gov/item/2005676941/   \n",
       "103179  2004663503  http://www.loc.gov/item/2004663503/   \n",
       "\n",
       "                                                      url  year  \\\n",
       "0       https://tile.loc.gov/storage-services/service/...  1845   \n",
       "1       https://tile.loc.gov/storage-services/service/...  1853   \n",
       "2       https://www.loc.gov/static/images/original-for...  1850   \n",
       "3       https://tile.loc.gov/storage-services/service/...  1853   \n",
       "4       https://tile.loc.gov/storage-services/service/...  1853   \n",
       "...                                                   ...   ...   \n",
       "103170  https://tile.loc.gov/storage-services/service/...  1945   \n",
       "103171  https://tile.loc.gov/storage-services/service/...  1945   \n",
       "103175  https://tile.loc.gov/image-services/iiif/servi...  1946   \n",
       "103178  https://tile.loc.gov/storage-services/service/...  1948   \n",
       "103179  https://tile.loc.gov/storage-services/service/...  1948   \n",
       "\n",
       "                                              description  access_restricted  \\\n",
       "0       2 photographs : daguerreotype and tintype ; da...              False   \n",
       "1       1 photograph : approximate sixth-plate tintype...              False   \n",
       "2       11 photographic prints on cartes de visite mou...               True   \n",
       "3       1 photograph : approximate sixth-plate tintype...              False   \n",
       "4       1 photograph : approximate sixth-plate tintype...              False   \n",
       "...                                                   ...                ...   \n",
       "103170  1 photographic print. | Emperor Hirohito, wear...               True   \n",
       "103171                      1 negative : safety ; 4x5 in.              False   \n",
       "103175  The Florida sponge diving industry developed i...              False   \n",
       "103178  1 photographic print. | Photograph shows Virgi...               True   \n",
       "103179             1 photographic print : gelatin silver.              False   \n",
       "\n",
       "                   technique                                        filename  \n",
       "0                   tintypes             1845-9/2015650656_tintypes_1845.jpg  \n",
       "1                   tintypes             1850-4/2006688336_tintypes_1853.jpg  \n",
       "2                   tintypes                 1850-4/650013_tintypes_1850.jpg  \n",
       "3                   tintypes             1850-4/2006688335_tintypes_1853.jpg  \n",
       "4                   tintypes             1850-4/2006688337_tintypes_1853.jpg  \n",
       "...                      ...                                             ...  \n",
       "103170  portrait+photographs    1945-9/94510435_portraitphotographs_1945.jpg  \n",
       "103171  portrait+photographs  1945-9/2018722831_portraitphotographs_1945.jpg  \n",
       "103175  portrait+photographs  1945-9/2021669950_portraitphotographs_1946.jpg  \n",
       "103178  portrait+photographs  1945-9/2005676941_portraitphotographs_1948.jpg  \n",
       "103179  portrait+photographs  1945-9/2004663503_portraitphotographs_1948.jpg  \n",
       "\n",
       "[101627 rows x 8 columns]"
      ]
     },
     "execution_count": 154,
     "metadata": {},
     "output_type": "execute_result"
    }
   ],
   "source": [
    "df"
   ]
  },
  {
   "cell_type": "code",
   "execution_count": 155,
   "metadata": {
    "collapsed": false,
    "jupyter": {
     "outputs_hidden": false
    },
    "pycharm": {
     "name": "#%%\n"
    }
   },
   "outputs": [],
   "source": [
    "df.to_csv(\"loc.csv\", index=False)"
   ]
  },
  {
   "cell_type": "code",
   "execution_count": null,
   "metadata": {
    "collapsed": false,
    "jupyter": {
     "outputs_hidden": false
    },
    "pycharm": {
     "name": "#%%\n"
    }
   },
   "outputs": [],
   "source": []
  }
 ],
 "metadata": {
  "kernelspec": {
   "display_name": "Python 3 (ipykernel)",
   "language": "python",
   "name": "python3"
  },
  "language_info": {
   "codemirror_mode": {
    "name": "ipython",
    "version": 3
   },
   "file_extension": ".py",
   "mimetype": "text/x-python",
   "name": "python",
   "nbconvert_exporter": "python",
   "pygments_lexer": "ipython3",
   "version": "3.9.12"
  }
 },
 "nbformat": 4,
 "nbformat_minor": 4
}
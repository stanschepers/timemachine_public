{
 "cells": [
  {
   "cell_type": "code",
   "execution_count": 1,
   "metadata": {},
   "outputs": [
    {
     "name": "stdout",
     "output_type": "stream",
     "text": [
      "Requirement already satisfied: pandas in /opt/conda/lib/python3.9/site-packages (1.4.2)\n",
      "Requirement already satisfied: numpy in /opt/conda/lib/python3.9/site-packages (1.21.5)\n",
      "Requirement already satisfied: tqdm in /opt/conda/lib/python3.9/site-packages (4.64.0)\n",
      "Requirement already satisfied: python-dateutil>=2.8.1 in /opt/conda/lib/python3.9/site-packages (from pandas) (2.8.2)\n",
      "Requirement already satisfied: pytz>=2020.1 in /opt/conda/lib/python3.9/site-packages (from pandas) (2022.1)\n",
      "Requirement already satisfied: six>=1.5 in /opt/conda/lib/python3.9/site-packages (from python-dateutil>=2.8.1->pandas) (1.16.0)\n"
     ]
    }
   ],
   "source": [
    "!pip install pandas numpy tqdm"
   ]
  },
  {
   "cell_type": "code",
   "execution_count": 2,
   "metadata": {
    "pycharm": {
     "name": "#%%\n"
    }
   },
   "outputs": [],
   "source": [
    "import os\n",
    "import glob\n",
    "import shutil\n",
    "import re\n",
    "\n",
    "import numpy as np\n",
    "from tqdm import tqdm\n",
    "import pandas as pd"
   ]
  },
  {
   "cell_type": "code",
   "execution_count": 7,
   "metadata": {},
   "outputs": [],
   "source": [
    "FILENAMES = glob.glob(\"/project_antwerp/data/preprocessing/images/*.jpg\")"
   ]
  },
  {
   "cell_type": "code",
   "execution_count": 8,
   "metadata": {},
   "outputs": [
    {
     "data": {
      "text/plain": [
       "['/project_antwerp/data/preprocessing/images/4133_1933.jpg',\n",
       " '/project_antwerp/data/preprocessing/images/1175_1941.jpg']"
      ]
     },
     "execution_count": 8,
     "metadata": {},
     "output_type": "execute_result"
    }
   ],
   "source": [
    "FILENAMES[:2]"
   ]
  },
  {
   "cell_type": "code",
   "execution_count": 35,
   "metadata": {
    "pycharm": {
     "name": "#%%\n"
    }
   },
   "outputs": [],
   "source": [
    "PATTERN = r\"/project_antwerp/data/preprocessing/images/\\d+_(?P<YEAR>\\d\\d\\d\\d)\"\n",
    "OUTPUT_DIR = \"/project_antwerp/data/ShorpyText\"\n",
    "MOVE = False\n",
    "SEED = 42\n",
    "TRAIN_SET = 0.8"
   ]
  },
  {
   "cell_type": "code",
   "execution_count": 36,
   "metadata": {
    "pycharm": {
     "name": "#%%\n"
    }
   },
   "outputs": [],
   "source": [
    "FILENAMES = list(FILENAMES)"
   ]
  },
  {
   "cell_type": "code",
   "execution_count": 37,
   "metadata": {
    "pycharm": {
     "name": "#%%\n"
    }
   },
   "outputs": [],
   "source": [
    "os.makedirs(OUTPUT_DIR, exist_ok=True)"
   ]
  },
  {
   "cell_type": "code",
   "execution_count": 38,
   "metadata": {
    "pycharm": {
     "name": "#%%\n"
    }
   },
   "outputs": [],
   "source": [
    "def to_5_years(year: int) -> str:\n",
    "    if year is None:\n",
    "        return \"None\"\n",
    "    century, decade, unit = str(year)[:2], str(year)[2], str(year)[3]\n",
    "    if int(unit) < 5:\n",
    "        return f\"{century}{decade}0-4\"\n",
    "    return f\"{century}{decade}5-9\""
   ]
  },
  {
   "cell_type": "code",
   "execution_count": 39,
   "metadata": {
    "pycharm": {
     "name": "#%%\n"
    }
   },
   "outputs": [],
   "source": [
    "def resolve_year(filename):\n",
    "    try:\n",
    "        match = re.match(PATTERN, filename)\n",
    "        return int(match.group(\"YEAR\"))\n",
    "    except:\n",
    "        return None"
   ]
  },
  {
   "cell_type": "code",
   "execution_count": 40,
   "metadata": {},
   "outputs": [],
   "source": [
    "def resolve_id(filename):\n",
    "    try:\n",
    "        id_pattern = r\"/project_antwerp/notebooks/dataset/images/(?P<ID>\\d+)_\\d+.jpg\"\n",
    "        match = re.match(id_pattern, filename)\n",
    "        return int(match.group(\"ID\"))\n",
    "    except:\n",
    "        return None"
   ]
  },
  {
   "cell_type": "code",
   "execution_count": 41,
   "metadata": {
    "pycharm": {
     "name": "#%%\n"
    }
   },
   "outputs": [],
   "source": [
    "years = [resolve_year(f) for f in FILENAMES]"
   ]
  },
  {
   "cell_type": "code",
   "execution_count": 42,
   "metadata": {},
   "outputs": [
    {
     "data": {
      "text/plain": [
       "[1933, 1941, 1924, 1941, 1932, 1913, 1900, 1953, 1928, 1936]"
      ]
     },
     "execution_count": 42,
     "metadata": {},
     "output_type": "execute_result"
    }
   ],
   "source": [
    "years[:10]"
   ]
  },
  {
   "cell_type": "code",
   "execution_count": 43,
   "metadata": {},
   "outputs": [],
   "source": [
    "labels = [to_5_years(y) for y in years]"
   ]
  },
  {
   "cell_type": "code",
   "execution_count": 44,
   "metadata": {},
   "outputs": [
    {
     "data": {
      "text/plain": [
       "['1930-4',\n",
       " '1940-4',\n",
       " '1920-4',\n",
       " '1940-4',\n",
       " '1930-4',\n",
       " '1910-4',\n",
       " '1900-4',\n",
       " '1950-4',\n",
       " '1925-9',\n",
       " '1935-9']"
      ]
     },
     "execution_count": 44,
     "metadata": {},
     "output_type": "execute_result"
    }
   ],
   "source": [
    "labels[:10]"
   ]
  },
  {
   "cell_type": "code",
   "execution_count": 61,
   "metadata": {
    "pycharm": {
     "name": "#%%\n"
    }
   },
   "outputs": [],
   "source": [
    "new_filenames = []\n",
    "\n",
    "for filename, year, label in zip(FILENAMES, years, labels):\n",
    "    basename = os.path.basename(filename)\n",
    "    new_filename = os.path.join(label, basename)\n",
    "    new_filenames.append(new_filename)"
   ]
  },
  {
   "cell_type": "code",
   "execution_count": 55,
   "metadata": {},
   "outputs": [],
   "source": [
    "df = pd.read_csv(os.path.join(\"info.csv\"))"
   ]
  },
  {
   "cell_type": "code",
   "execution_count": 56,
   "metadata": {},
   "outputs": [],
   "source": [
    "df[\"set\"] = None\n",
    "df[\"set_filename\"] = None\n",
    "df[\"label\"] = None"
   ]
  },
  {
   "cell_type": "code",
   "execution_count": 54,
   "metadata": {
    "pycharm": {
     "name": "#%%\n"
    }
   },
   "outputs": [],
   "source": [
    "df = pd.DataFrame({\n",
    "    \"filename\": None,\n",
    "    \"year\": years,\n",
    "    \"label\": labels,\n",
    "    \"set\": None,\n",
    "    \"index\": idxs\n",
    "})"
   ]
  },
  {
   "cell_type": "code",
   "execution_count": 57,
   "metadata": {
    "pycharm": {
     "name": "#%%\n"
    }
   },
   "outputs": [],
   "source": [
    "msk = np.random.rand(len(df)) < TRAIN_SET\n",
    "df.loc[msk, \"set\"] = \"train\"\n",
    "df.loc[~msk, \"set\"] = \"test\""
   ]
  },
  {
   "cell_type": "code",
   "execution_count": 58,
   "metadata": {},
   "outputs": [],
   "source": [
    "msk = df[\"label\"] == 'None'\n",
    "df.loc[msk, \"set\"] = \"excluded\""
   ]
  },
  {
   "cell_type": "code",
   "execution_count": 59,
   "metadata": {},
   "outputs": [],
   "source": [
    "msk = df[\"year\"] < 1850\n",
    "df.loc[msk, \"set\"] = \"excluded\""
   ]
  },
  {
   "cell_type": "code",
   "execution_count": 62,
   "metadata": {
    "pycharm": {
     "name": "#%%\n"
    }
   },
   "outputs": [],
   "source": [
    "df[\"filename\"] = [os.path.join(set_, f) for set_, f in zip(df[\"set\"], new_filenames)]"
   ]
  },
  {
   "cell_type": "code",
   "execution_count": 63,
   "metadata": {
    "pycharm": {
     "name": "#%%\n"
    }
   },
   "outputs": [],
   "source": [
    "df = df[df[\"label\"] != None]"
   ]
  },
  {
   "cell_type": "code",
   "execution_count": 57,
   "metadata": {},
   "outputs": [],
   "source": [
    "df.set_index('index', inplace=True)"
   ]
  },
  {
   "cell_type": "code",
   "execution_count": 59,
   "metadata": {},
   "outputs": [
    {
     "data": {
      "text/html": [
       "<div>\n",
       "<style scoped>\n",
       "    .dataframe tbody tr th:only-of-type {\n",
       "        vertical-align: middle;\n",
       "    }\n",
       "\n",
       "    .dataframe tbody tr th {\n",
       "        vertical-align: top;\n",
       "    }\n",
       "\n",
       "    .dataframe thead th {\n",
       "        text-align: right;\n",
       "    }\n",
       "</style>\n",
       "<table border=\"1\" class=\"dataframe\">\n",
       "  <thead>\n",
       "    <tr style=\"text-align: right;\">\n",
       "      <th></th>\n",
       "      <th>filename</th>\n",
       "      <th>year</th>\n",
       "      <th>label</th>\n",
       "      <th>set</th>\n",
       "      <th>yeartext</th>\n",
       "      <th>src</th>\n",
       "      <th>text</th>\n",
       "      <th>downloaded</th>\n",
       "    </tr>\n",
       "    <tr>\n",
       "      <th>index</th>\n",
       "      <th></th>\n",
       "      <th></th>\n",
       "      <th></th>\n",
       "      <th></th>\n",
       "      <th></th>\n",
       "      <th></th>\n",
       "      <th></th>\n",
       "      <th></th>\n",
       "    </tr>\n",
       "  </thead>\n",
       "  <tbody>\n",
       "    <tr>\n",
       "      <th>12358</th>\n",
       "      <td>train/1910-4/12358_1910.jpg</td>\n",
       "      <td>1910.0</td>\n",
       "      <td>1910-4</td>\n",
       "      <td>train</td>\n",
       "      <td>1914.0</td>\n",
       "      <td>https://www.shorpy.com/files/images/04783a.pre...</td>\n",
       "      <td>Washington, D.C., circa 1914. \"Three-horse tea...</td>\n",
       "      <td>True</td>\n",
       "    </tr>\n",
       "    <tr>\n",
       "      <th>4133</th>\n",
       "      <td>train/1930-4/4133_1933.jpg</td>\n",
       "      <td>1933.0</td>\n",
       "      <td>1930-4</td>\n",
       "      <td>train</td>\n",
       "      <td>1901.0</td>\n",
       "      <td>https://www.shorpy.com/files/images/SHORPY-4a0...</td>\n",
       "      <td>Circa 1901. \"Gratiot Light, Port Huron, Michig...</td>\n",
       "      <td>True</td>\n",
       "    </tr>\n",
       "    <tr>\n",
       "      <th>10353</th>\n",
       "      <td>test/1860-4/10353_1862.jpg</td>\n",
       "      <td>1862.0</td>\n",
       "      <td>1860-4</td>\n",
       "      <td>test</td>\n",
       "      <td>1928.0</td>\n",
       "      <td>https://www.shorpy.com/files/images/05923u.pre...</td>\n",
       "      <td>Fredericksburg, Virginia, circa 1928. \"Willis ...</td>\n",
       "      <td>True</td>\n",
       "    </tr>\n",
       "    <tr>\n",
       "      <th>14384</th>\n",
       "      <td>train/1935-9/14384_1938.jpg</td>\n",
       "      <td>1938.0</td>\n",
       "      <td>1935-9</td>\n",
       "      <td>train</td>\n",
       "      <td>1943.0</td>\n",
       "      <td>https://www.shorpy.com/files/images/1a35433u.p...</td>\n",
       "      <td>Extracted sulfur stacked in a \"vat\" 60 feet ta...</td>\n",
       "      <td>True</td>\n",
       "    </tr>\n",
       "    <tr>\n",
       "      <th>1175</th>\n",
       "      <td>train/1940-4/1175_1941.jpg</td>\n",
       "      <td>1941.0</td>\n",
       "      <td>1940-4</td>\n",
       "      <td>train</td>\n",
       "      <td>1939.0</td>\n",
       "      <td>https://www.shorpy.com/files/images/SHORPY-8b2...</td>\n",
       "      <td>October 1939. \"Insignia of nationally affiliat...</td>\n",
       "      <td>True</td>\n",
       "    </tr>\n",
       "    <tr>\n",
       "      <th>...</th>\n",
       "      <td>...</td>\n",
       "      <td>...</td>\n",
       "      <td>...</td>\n",
       "      <td>...</td>\n",
       "      <td>...</td>\n",
       "      <td>...</td>\n",
       "      <td>...</td>\n",
       "      <td>...</td>\n",
       "    </tr>\n",
       "    <tr>\n",
       "      <th>12000</th>\n",
       "      <td>train/1910-4/12000_1910.jpg</td>\n",
       "      <td>1910.0</td>\n",
       "      <td>1910-4</td>\n",
       "      <td>train</td>\n",
       "      <td>1917.0</td>\n",
       "      <td>https://www.shorpy.com/files/images/08250a.pre...</td>\n",
       "      <td>1917. \"Mrs. Van H. Manning. U.S. Bureau of Min...</td>\n",
       "      <td>True</td>\n",
       "    </tr>\n",
       "    <tr>\n",
       "      <th>6101</th>\n",
       "      <td>train/1955-9/6101_1959.jpg</td>\n",
       "      <td>1959.0</td>\n",
       "      <td>1955-9</td>\n",
       "      <td>train</td>\n",
       "      <td>1910.0</td>\n",
       "      <td>https://www.shorpy.com/files/images/SHORPY_4a2...</td>\n",
       "      <td>Mobile, Alabama, circa 1910. \"A pretty bit of ...</td>\n",
       "      <td>True</td>\n",
       "    </tr>\n",
       "    <tr>\n",
       "      <th>5418</th>\n",
       "      <td>train/1915-9/5418_1919.jpg</td>\n",
       "      <td>1919.0</td>\n",
       "      <td>1915-9</td>\n",
       "      <td>train</td>\n",
       "      <td>1936.0</td>\n",
       "      <td>https://www.shorpy.com/files/images/SHORPY-200...</td>\n",
       "      <td>Washington, D.C., circa 1936. \"Hard, William.\"...</td>\n",
       "      <td>True</td>\n",
       "    </tr>\n",
       "    <tr>\n",
       "      <th>3795</th>\n",
       "      <td>train/1900-4/3795_1904.jpg</td>\n",
       "      <td>1904.0</td>\n",
       "      <td>1900-4</td>\n",
       "      <td>train</td>\n",
       "      <td>1903.0</td>\n",
       "      <td>https://www.shorpy.com/files/images/SHORPY-4a1...</td>\n",
       "      <td>\"Loading steamer Chalmette during high water, ...</td>\n",
       "      <td>True</td>\n",
       "    </tr>\n",
       "    <tr>\n",
       "      <th>12882</th>\n",
       "      <td>test/1905-9/12882_1905.jpg</td>\n",
       "      <td>1905.0</td>\n",
       "      <td>1905-9</td>\n",
       "      <td>test</td>\n",
       "      <td>1921.0</td>\n",
       "      <td>https://www.shorpy.com/files/images/30408u_1.p...</td>\n",
       "      <td>Washington, D.C., circa 1921. Thomas Circle an...</td>\n",
       "      <td>True</td>\n",
       "    </tr>\n",
       "  </tbody>\n",
       "</table>\n",
       "<p>15268 rows × 8 columns</p>\n",
       "</div>"
      ],
      "text/plain": [
       "                          filename    year   label    set  yeartext  \\\n",
       "index                                                                 \n",
       "12358  train/1910-4/12358_1910.jpg  1910.0  1910-4  train    1914.0   \n",
       "4133    train/1930-4/4133_1933.jpg  1933.0  1930-4  train    1901.0   \n",
       "10353   test/1860-4/10353_1862.jpg  1862.0  1860-4   test    1928.0   \n",
       "14384  train/1935-9/14384_1938.jpg  1938.0  1935-9  train    1943.0   \n",
       "1175    train/1940-4/1175_1941.jpg  1941.0  1940-4  train    1939.0   \n",
       "...                            ...     ...     ...    ...       ...   \n",
       "12000  train/1910-4/12000_1910.jpg  1910.0  1910-4  train    1917.0   \n",
       "6101    train/1955-9/6101_1959.jpg  1959.0  1955-9  train    1910.0   \n",
       "5418    train/1915-9/5418_1919.jpg  1919.0  1915-9  train    1936.0   \n",
       "3795    train/1900-4/3795_1904.jpg  1904.0  1900-4  train    1903.0   \n",
       "12882   test/1905-9/12882_1905.jpg  1905.0  1905-9   test    1921.0   \n",
       "\n",
       "                                                     src  \\\n",
       "index                                                      \n",
       "12358  https://www.shorpy.com/files/images/04783a.pre...   \n",
       "4133   https://www.shorpy.com/files/images/SHORPY-4a0...   \n",
       "10353  https://www.shorpy.com/files/images/05923u.pre...   \n",
       "14384  https://www.shorpy.com/files/images/1a35433u.p...   \n",
       "1175   https://www.shorpy.com/files/images/SHORPY-8b2...   \n",
       "...                                                  ...   \n",
       "12000  https://www.shorpy.com/files/images/08250a.pre...   \n",
       "6101   https://www.shorpy.com/files/images/SHORPY_4a2...   \n",
       "5418   https://www.shorpy.com/files/images/SHORPY-200...   \n",
       "3795   https://www.shorpy.com/files/images/SHORPY-4a1...   \n",
       "12882  https://www.shorpy.com/files/images/30408u_1.p...   \n",
       "\n",
       "                                                    text downloaded  \n",
       "index                                                                \n",
       "12358  Washington, D.C., circa 1914. \"Three-horse tea...       True  \n",
       "4133   Circa 1901. \"Gratiot Light, Port Huron, Michig...       True  \n",
       "10353  Fredericksburg, Virginia, circa 1928. \"Willis ...       True  \n",
       "14384  Extracted sulfur stacked in a \"vat\" 60 feet ta...       True  \n",
       "1175   October 1939. \"Insignia of nationally affiliat...       True  \n",
       "...                                                  ...        ...  \n",
       "12000  1917. \"Mrs. Van H. Manning. U.S. Bureau of Min...       True  \n",
       "6101   Mobile, Alabama, circa 1910. \"A pretty bit of ...       True  \n",
       "5418   Washington, D.C., circa 1936. \"Hard, William.\"...       True  \n",
       "3795   \"Loading steamer Chalmette during high water, ...       True  \n",
       "12882  Washington, D.C., circa 1921. Thomas Circle an...       True  \n",
       "\n",
       "[15268 rows x 8 columns]"
      ]
     },
     "execution_count": 59,
     "metadata": {},
     "output_type": "execute_result"
    }
   ],
   "source": [
    "df.join(text_df, on=\"index\", rsuffix=\"text\")"
   ]
  },
  {
   "cell_type": "code",
   "execution_count": 65,
   "metadata": {},
   "outputs": [],
   "source": [
    "del df[\"set_filename\"]"
   ]
  },
  {
   "cell_type": "code",
   "execution_count": 66,
   "metadata": {
    "pycharm": {
     "name": "#%%\n"
    }
   },
   "outputs": [],
   "source": [
    "df.to_csv(os.path.join(OUTPUT_DIR, \"info.csv\"), index=False)"
   ]
  },
  {
   "cell_type": "code",
   "execution_count": 67,
   "metadata": {
    "pycharm": {
     "name": "#%%\n"
    }
   },
   "outputs": [
    {
     "name": "stderr",
     "output_type": "stream",
     "text": [
      "100%|██████████| 15268/15268 [00:39<00:00, 389.64it/s]\n"
     ]
    }
   ],
   "source": [
    "for old_filename, new_filename, in tqdm(zip(FILENAMES, df[\"filename\"]), total=len(new_filenames)):\n",
    "    new_filename = os.path.join(OUTPUT_DIR, new_filename)\n",
    "    if os.path.exists(new_filename):\n",
    "        continue\n",
    "    os.makedirs(os.path.dirname(new_filename), exist_ok=True)\n",
    "    if MOVE:\n",
    "        shutil.move(old_filename, new_filename)\n",
    "    else:\n",
    "        shutil.copy(old_filename, new_filename)"
   ]
  },
  {
   "cell_type": "code",
   "execution_count": 68,
   "metadata": {},
   "outputs": [
    {
     "data": {
      "text/plain": [
       "(15268, 6)"
      ]
     },
     "execution_count": 68,
     "metadata": {},
     "output_type": "execute_result"
    }
   ],
   "source": [
    "df.shape"
   ]
  },
  {
   "cell_type": "code",
   "execution_count": 79,
   "metadata": {},
   "outputs": [
    {
     "data": {
      "text/plain": [
       "(10744, 4)"
      ]
     },
     "execution_count": 79,
     "metadata": {},
     "output_type": "execute_result"
    }
   ],
   "source": [
    "df.drop_duplicates().shape"
   ]
  },
  {
   "cell_type": "code",
   "execution_count": null,
   "metadata": {},
   "outputs": [],
   "source": []
  }
 ],
 "metadata": {
  "kernelspec": {
   "display_name": "Python 3 (ipykernel)",
   "language": "python",
   "name": "python3"
  },
  "language_info": {
   "codemirror_mode": {
    "name": "ipython",
    "version": 3
   },
   "file_extension": ".py",
   "mimetype": "text/x-python",
   "name": "python",
   "nbconvert_exporter": "python",
   "pygments_lexer": "ipython3",
   "version": "3.10.5"
  }
 },
 "nbformat": 4,
 "nbformat_minor": 4
}

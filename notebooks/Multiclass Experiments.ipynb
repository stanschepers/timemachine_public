{
 "cells": [
  {
   "cell_type": "code",
   "execution_count": null,
   "id": "608d0356-a8cc-496b-aae5-a2ee1d7f7dab",
   "metadata": {},
   "outputs": [],
   "source": [
    "import tensorflow as tf\n",
    "import pandas as pd\n",
    "import numpy as np\n",
    "\n",
    "from dataset import load_dataset, load_dataset_info\n",
    "from experiments import ResNetClassificationExperiment"
   ]
  },
  {
   "cell_type": "markdown",
   "id": "11c76be7-ff82-42ef-af14-c6017063f244",
   "metadata": {
    "tags": []
   },
   "source": [
    "## Training Data"
   ]
  },
  {
   "cell_type": "code",
   "execution_count": null,
   "id": "407af915-3458-45cc-a81f-0eeeae0db418",
   "metadata": {},
   "outputs": [],
   "source": [
    "DATASETS = [\n",
    "    (\"LOC\", \"Antwerp\", False), \n",
    "    (\"LOCPortrait\", \"LOCPortrait\", False),\n",
    "    (\"LOC\", \"LOC\", True), \n",
    "]  # (training_dataset, test_dataset, technique"
   ]
  },
  {
   "cell_type": "code",
   "execution_count": null,
   "id": "99500f3e-2034-4cb2-8004-a80ca97eb41c",
   "metadata": {},
   "outputs": [],
   "source": [
    "def get_dataset(dataset, technique=False, test=False):\n",
    "    df = load_dataset_info(f\"../data/{dataset}\")\n",
    "    if test:\n",
    "        df[\"set\"] = \"train\"\n",
    "\n",
    "    # Preprocess Years\n",
    "    \n",
    "    if technique:\n",
    "        df = df.loc[df[\"technique\"].isin([\"ambrotypes\", \"cyanotypes\", \"dry+plate+negatives\", \"gelatin+silver+prints\", \"acetate+negatives\"])]\n",
    "        df[\"target\"] = df[\"technique\"]\n",
    "        df[\"target_ordinal\"] = df[\"target\"]\n",
    "    else:\n",
    "        df = df.loc[(df[\"year\"] >= 1850) & (df[\"year\"] < 1930)]\n",
    "        df[\"target\"] = df[\"label\"]\n",
    "\n",
    "    min_year, max_year = df[\"year\"].min(), df[\"year\"].max()\n",
    "    n_classes = df[\"target\"].unique().shape[0]\n",
    "    \n",
    "    preprocess_config = {\n",
    "        \"preprocessing_function\": tf.keras.applications.vgg16.preprocess_input\n",
    "    }\n",
    "    \n",
    "    return load_dataset(\n",
    "        f\"../data/{dataset}\",\n",
    "        df=df,\n",
    "        y_col=\"target\",\n",
    "        class_mode=\"categorical\",\n",
    "        validation_split = 0.01 if test else 0.2,\n",
    "        train_preprocess_config=preprocess_config,\n",
    "        test_preprocess_config=preprocess_config,\n",
    "    ),  n_classes"
   ]
  },
  {
   "cell_type": "code",
   "execution_count": null,
   "id": "3b86bd16-99c7-4fc1-94a1-3efb0a6639c3",
   "metadata": {},
   "outputs": [],
   "source": [
    "def get_test_datasets(dataset, sample_size=100):\n",
    "    test_datasets = []\n",
    "    df = load_dataset_info(f\"../data/{dataset}\")\n",
    "    df[\"set\"] = \"train\"\n",
    "    \n",
    "    df = df.loc[(df[\"year\"] >= 1850) & (df[\"year\"] < 1930)]\n",
    "    df[\"target\"] = df[\"label\"]\n",
    "    \n",
    "    labels = list(df[\"target\"].unique())\n",
    "    \n",
    "    preprocess_config = {\n",
    "        \"preprocessing_function\": tf.keras.applications.vgg16.preprocess_input\n",
    "    }\n",
    "    \n",
    "    for label in labels:\n",
    "        df_set = df.loc[df[\"target\"] == label].sample(sample_size)\n",
    "        train_dataset, _, _ = load_dataset(\n",
    "            f\"../data/{dataset}\",\n",
    "            df=df_set,\n",
    "            y_col=\"target\",\n",
    "            class_mode=\"categorical\",\n",
    "            validation_split = 0.01,\n",
    "            train_preprocess_config=preprocess_config,\n",
    "            test_preprocess_config=preprocess_config,\n",
    "        )\n",
    "        test_datasets.append((label, train_dataset))\n",
    "    \n",
    "    return test_datasets"
   ]
  },
  {
   "cell_type": "code",
   "execution_count": null,
   "id": "45a7caa9-132b-4e44-8ea5-9394a438ccbd",
   "metadata": {
    "tags": []
   },
   "outputs": [],
   "source": [
    "for train_dataset_name, test_dataset_name, is_technique in DATASETS:\n",
    "    has_test_dataset = train_dataset_name != test_dataset_name\n",
    "    \n",
    "    (train_generator, val_generator, test_generator), n_classes \\\n",
    "        = get_dataset(train_dataset_name, technique=is_technique)\n",
    "    \n",
    "    if has_test_dataset:\n",
    "        (test_generator, val_test_generator, _), _  = get_dataset(train_dataset_name, test=True, technique=is_technique)\n",
    "        \n",
    "    \n",
    "    name = f\"{train_dataset_name}_{test_dataset_name}_ResNet_Classification_test\"\n",
    "    experiment = ResNetClassificationExperiment(\n",
    "        name=name,\n",
    "        n_classes=n_classes,\n",
    "    )\n",
    "    \n",
    "    model, _, _ = experiment.run(\n",
    "        train_generator, val_generator, test_generator,\n",
    "        pretrain_epochs=20,\n",
    "        finetune_epochs=20\n",
    "    )\n",
    "    \n",
    "    if test_dataset_name == \"Antwerp\":\n",
    "        test_datasets = get_test_datasets(train_dataset_name)\n",
    "        for (label, test_dataset) in test_datasets:\n",
    "            performance = model.evaluate(test_dataset)\n",
    "            print(f\"[{name}][evaluation][{label}]: {performance}\")"
   ]
  },
  {
   "cell_type": "code",
   "execution_count": null,
   "id": "58c27c6b-ddb4-4a41-9438-c1ee29849fe2",
   "metadata": {
    "tags": []
   },
   "outputs": [],
   "source": []
  }
 ],
 "metadata": {
  "kernelspec": {
   "display_name": "Python 3 (ipykernel)",
   "language": "python",
   "name": "python3"
  },
  "language_info": {
   "codemirror_mode": {
    "name": "ipython",
    "version": 3
   },
   "file_extension": ".py",
   "mimetype": "text/x-python",
   "name": "python",
   "nbconvert_exporter": "python",
   "pygments_lexer": "ipython3",
   "version": "3.10.5"
  },
  "widgets": {
   "application/vnd.jupyter.widget-state+json": {
    "state": {},
    "version_major": 2,
    "version_minor": 0
   }
  }
 },
 "nbformat": 4,
 "nbformat_minor": 5
}

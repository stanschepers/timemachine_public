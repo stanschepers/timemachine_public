{
 "cells": [
  {
   "cell_type": "code",
   "execution_count": null,
   "id": "608d0356-a8cc-496b-aae5-a2ee1d7f7dab",
   "metadata": {},
   "outputs": [],
   "source": [
    "import tensorflow as tf\n",
    "import pandas as pd\n",
    "import numpy as np\n",
    "\n",
    "from dataset import load_dataset, load_dataset_info\n",
    "from experiments import ResNetRegressionExperiment"
   ]
  },
  {
   "cell_type": "code",
   "execution_count": null,
   "id": "8819a400-ca12-4a4f-939f-3d1b607f37b9",
   "metadata": {},
   "outputs": [],
   "source": [
    "DATASETS = [\n",
    "    (\"LOC\", \"Antwerp\"),\n",
    "    (\"LOCPortrait\", \"LOCPortrait\"),\n",
    "]  # (training_dataset, test_dataset"
   ]
  },
  {
   "cell_type": "code",
   "execution_count": null,
   "id": "689c04fe-4cef-4f12-9ffe-5f284e5851d5",
   "metadata": {},
   "outputs": [],
   "source": [
    "def get_dataset(dataset, test=False):\n",
    "    df = load_dataset_info(f\"../data/{dataset}\")\n",
    "    if test:\n",
    "        df[\"set\"] = \"train\"\n",
    "\n",
    "    # Preprocess Years\n",
    "    df = df.loc[(df[\"year\"] >= 1850) & (df[\"year\"] < 1930)]\n",
    "    df[\"target\"] = (df[\"year\"] - df[\"year\"].min()) / (df[\"year\"].max() - df[\"year\"].min())\n",
    "\n",
    "    min_year, max_year = df[\"year\"].min(), df[\"year\"].max()\n",
    "    \n",
    "    preprocess_config = {\n",
    "        \"preprocessing_function\": tf.keras.applications.vgg16.preprocess_input\n",
    "    }\n",
    "    \n",
    "    return load_dataset(\n",
    "        f\"../data/{dataset}\",\n",
    "        df=df,\n",
    "        y_col=\"target\",\n",
    "        class_mode=\"raw\",\n",
    "        validation_split = 0.01 if test else 0.2,\n",
    "        train_preprocess_config=preprocess_config,\n",
    "        test_preprocess_config=preprocess_config,\n",
    "    )\n"
   ]
  },
  {
   "cell_type": "code",
   "execution_count": null,
   "id": "faaf38e8-a859-4c5a-9229-83cfd0f63516",
   "metadata": {},
   "outputs": [],
   "source": [
    "def get_test_datasets(dataset, sample_size=100):\n",
    "    test_datasets = []\n",
    "    df = load_dataset_info(f\"../data/{dataset}\")\n",
    "    df[\"set\"] = \"train\"\n",
    "    \n",
    "    df = df.loc[(df[\"year\"] >= 1850) & (df[\"year\"] < 1930)]\n",
    "    df[\"target\"] = df[\"label\"]\n",
    "    \n",
    "    labels = list(df[\"target\"].unique())\n",
    "    \n",
    "    preprocess_config = {\n",
    "        \"preprocessing_function\": tf.keras.applications.vgg16.preprocess_input\n",
    "    }\n",
    "    \n",
    "    for label in labels:\n",
    "        df_set = df.loc[df[\"target\"] == label].sample(sample_size)\n",
    "        train_dataset, _, _ = load_dataset(\n",
    "            f\"../data/{dataset}\",\n",
    "            df=df_set,\n",
    "            y_col=\"target\",\n",
    "            class_mode=\"categorical\",\n",
    "            validation_split = 0.01,\n",
    "            train_preprocess_config=preprocess_config,\n",
    "            test_preprocess_config=preprocess_config,\n",
    "        )\n",
    "        test_datasets.append((label, train_dataset))\n",
    "    \n",
    "    return test_datasets"
   ]
  },
  {
   "cell_type": "code",
   "execution_count": null,
   "id": "2c10d19c-1ed2-4ab9-aca5-055e503b17e3",
   "metadata": {
    "tags": []
   },
   "outputs": [],
   "source": [
    "for train_dataset_name, test_dataset_name in DATASETS:\n",
    "    has_test_dataset = train_dataset_name != test_dataset_name\n",
    "    \n",
    "    train_generator, val_generator, test_generator = get_dataset(train_dataset_name)\n",
    "    \n",
    "    if has_test_dataset:\n",
    "        test_generator, val_test_generator, _  = get_dataset(train_dataset_name, test=True)\n",
    "        \n",
    "    \n",
    "    experiment = ResNetRegressionExperiment(\n",
    "        name=f\"{train_dataset_name}_{test_dataset_name}_ResNet_Regression\",\n",
    "        n_classes=1,\n",
    "        min_year=1850,\n",
    "        max_year=1929,\n",
    "    )\n",
    "    \n",
    "    model, _, _ = experiment.run(\n",
    "        train_generator, val_generator, test_generator,\n",
    "        pretrain_epochs=20,\n",
    "        finetune_epochs=20,\n",
    "    )\n",
    "    \n",
    "    if test_dataset_name == \"Antwerp\":\n",
    "        test_datasets = get_test_datasets(train_dataset_name)\n",
    "        for (label, test_dataset) in test_datasets:\n",
    "            performance = model.evaluate(test_dataset)\n",
    "            print(f\"[{name}][evaluation][{label}]: {performance}\")"
   ]
  },
  {
   "cell_type": "code",
   "execution_count": null,
   "id": "61998558-e627-4de1-8087-8fd4d606904c",
   "metadata": {},
   "outputs": [],
   "source": []
  }
 ],
 "metadata": {
  "kernelspec": {
   "display_name": "Python 3 (ipykernel)",
   "language": "python",
   "name": "python3"
  },
  "language_info": {
   "codemirror_mode": {
    "name": "ipython",
    "version": 3
   },
   "file_extension": ".py",
   "mimetype": "text/x-python",
   "name": "python",
   "nbconvert_exporter": "python",
   "pygments_lexer": "ipython3",
   "version": "3.10.5"
  },
  "widgets": {
   "application/vnd.jupyter.widget-state+json": {
    "state": {},
    "version_major": 2,
    "version_minor": 0
   }
  }
 },
 "nbformat": 4,
 "nbformat_minor": 5
}

{
 "cells": [
  {
   "cell_type": "code",
   "execution_count": null,
   "id": "608d0356-a8cc-496b-aae5-a2ee1d7f7dab",
   "metadata": {},
   "outputs": [],
   "source": [
    "import tensorflow as tf\n",
    "import pandas as pd\n",
    "import numpy as np\n",
    "\n",
    "from collections import defaultdict, Counter\n",
    "\n",
    "from dataset import load_dataset, load_dataset_info\n",
    "from experiments import CORALExperiment"
   ]
  },
  {
   "cell_type": "markdown",
   "id": "11c76be7-ff82-42ef-af14-c6017063f244",
   "metadata": {
    "tags": []
   },
   "source": [
    "## Training Data"
   ]
  },
  {
   "cell_type": "code",
   "execution_count": null,
   "id": "407af915-3458-45cc-a81f-0eeeae0db418",
   "metadata": {},
   "outputs": [],
   "source": [
    "DATASETS = [\n",
    "    (\"LOC\", \"LOC\", True),\n",
    "    (\"LOC\", \"Antwerp\", False),\n",
    "    (\"LOCPortrait\", \"LOCPortrait\", False),\n",
    "]  # (training_dataset, test_dataset"
   ]
  },
  {
   "cell_type": "code",
   "execution_count": null,
   "id": "c5a2f9f7-8d86-4728-8c47-32ecef9c7752",
   "metadata": {},
   "outputs": [],
   "source": [
    "map_technique = {\n",
    "        \"ambrotypes\": 0,\n",
    "        \"cyanotypes\": 1,\n",
    "        \"dry+plate+negatives\": 2,\n",
    "        \"gelatin+silver+prints\": 3,\n",
    "        \"acetate+negatives\": 4\n",
    "    }"
   ]
  },
  {
   "cell_type": "code",
   "execution_count": null,
   "id": "99500f3e-2034-4cb2-8004-a80ca97eb41c",
   "metadata": {},
   "outputs": [],
   "source": [
    "def get_dataset(dataset, technique=False, test=False):\n",
    "    df = load_dataset_info(f\"../data/{dataset}\")\n",
    "    if test:\n",
    "        df[\"set\"] = \"train\"\n",
    "\n",
    "    # Preprocess Years\n",
    "    df = df.loc[(df[\"year\"] >= 1850) & (df[\"year\"] < 1930)]\n",
    "    \n",
    "    \n",
    "    if technique:\n",
    "        df = df.loc[df[\"technique\"].isin(map_technique.keys())]\n",
    "        print(df[\"technique\"].unique())\n",
    "        print(Counter(df[\"technique\"]))\n",
    "        df = df.groupby(\"technique\").sample(841)\n",
    "        # df[\"target\"] = df[\"technique\"]\n",
    "        df[\"target\"] = df[\"technique\"].apply(lambda x : map_technique[x])\n",
    "    else:\n",
    "        df[\"target\"] = df[\"year\"] - df[\"year\"].min()\n",
    "        # df[\"target\"] = df[\"target\"].apply(str)\n",
    "\n",
    "    min_year, max_year = df[\"year\"].min(), df[\"year\"].max()\n",
    "    n_classes = df[\"target\"].unique().shape[0]\n",
    "    \n",
    "    preprocess_config = {\n",
    "        \"preprocessing_function\": tf.keras.applications.vgg16.preprocess_input\n",
    "    }\n",
    "    \n",
    "    return load_dataset(\n",
    "        f\"../data/{dataset}\",\n",
    "        df=df,\n",
    "        y_col=\"target\",\n",
    "        class_mode=\"raw\",\n",
    "        validation_split = 0.01 if test else 0.2,\n",
    "        train_preprocess_config=preprocess_config,\n",
    "        test_preprocess_config=preprocess_config,\n",
    "    ),  n_classes"
   ]
  },
  {
   "cell_type": "code",
   "execution_count": null,
   "id": "45a7caa9-132b-4e44-8ea5-9394a438ccbd",
   "metadata": {
    "tags": []
   },
   "outputs": [],
   "source": [
    "for train_dataset_name, test_dataset_name, is_technique in DATASETS:\n",
    "    has_test_dataset = train_dataset_name != test_dataset_name\n",
    "    \n",
    "    (train_generator, val_generator, test_generator), n_classes \\\n",
    "        = get_dataset(train_dataset_name, technique=is_technique)\n",
    "    \n",
    "    if has_test_dataset:\n",
    "        (test_generator, val_test_generator, _), _  = get_dataset(train_dataset_name, test=True, technique=is_technique)\n",
    "        \n",
    "    \n",
    "    experiment = CORALExperiment(\n",
    "        name=f\"{train_dataset_name}_{test_dataset_name}_CORAL_Classification_{'technique' if is_technique else ''}\",\n",
    "        n_classes=n_classes,\n",
    "    )\n",
    "    \n",
    "    experiment.run(\n",
    "        train_generator, val_generator, test_generator,\n",
    "        pretrain_epochs=50,\n",
    "        finetune_epochs=50\n",
    "    )"
   ]
  },
  {
   "cell_type": "code",
   "execution_count": null,
   "id": "58c27c6b-ddb4-4a41-9438-c1ee29849fe2",
   "metadata": {},
   "outputs": [],
   "source": []
  }
 ],
 "metadata": {
  "kernelspec": {
   "display_name": "Python 3 (ipykernel)",
   "language": "python",
   "name": "python3"
  },
  "language_info": {
   "codemirror_mode": {
    "name": "ipython",
    "version": 3
   },
   "file_extension": ".py",
   "mimetype": "text/x-python",
   "name": "python",
   "nbconvert_exporter": "python",
   "pygments_lexer": "ipython3",
   "version": "3.10.5"
  },
  "widgets": {
   "application/vnd.jupyter.widget-state+json": {
    "state": {},
    "version_major": 2,
    "version_minor": 0
   }
  }
 },
 "nbformat": 4,
 "nbformat_minor": 5
}

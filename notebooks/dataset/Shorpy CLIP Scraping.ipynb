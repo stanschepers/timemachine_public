{
 "cells": [
  {
   "cell_type": "code",
   "execution_count": 1,
   "id": "2039ac76-1e17-42c8-bcf4-83f041f3c4c2",
   "metadata": {},
   "outputs": [
    {
     "name": "stdout",
     "output_type": "stream",
     "text": [
      "Requirement already satisfied: lxml in /opt/conda/lib/python3.9/site-packages (4.8.0)\n"
     ]
    }
   ],
   "source": [
    "!pip install lxml"
   ]
  },
  {
   "cell_type": "code",
   "execution_count": 1,
   "id": "dcdc734b-5aec-4755-8d39-224293c5fa36",
   "metadata": {},
   "outputs": [],
   "source": [
    "from bs4 import BeautifulSoup\n",
    "import requests\n",
    "import re, os\n",
    "import random\n",
    "\n",
    "import pandas as pd\n",
    "\n",
    "from tqdm import tqdm"
   ]
  },
  {
   "cell_type": "code",
   "execution_count": 2,
   "id": "616225c9-41f4-444d-b846-885ddd7b46b9",
   "metadata": {},
   "outputs": [],
   "source": [
    "headers = {\n",
    "    \"User-Agent\": \"Mozilla/5.0 (Windows NT 10.0) AppleWebKit/537.36 (KHTML, like Gecko) Chrome/101.0.4951.54 Safari/537.36\"\n",
    "}"
   ]
  },
  {
   "cell_type": "code",
   "execution_count": 3,
   "id": "71700dc4-9de2-4cfe-b562-2eda97a47d71",
   "metadata": {},
   "outputs": [],
   "source": [
    "def get_page_url(page_nr=0):\n",
    "    return f\"https://www.shorpy.com/node?page={page_nr}\""
   ]
  },
  {
   "cell_type": "code",
   "execution_count": 4,
   "id": "58344792-5215-402b-83b6-4fe264076348",
   "metadata": {},
   "outputs": [],
   "source": [
    "def resolve_year(title):\n",
    "    pattern = r\"(?P<YEAR>\\d\\d\\d\\d)\"\n",
    "    m = re.findall(pattern, title)\n",
    "    if len(m) == 0:\n",
    "        return None\n",
    "    return m[-1]"
   ]
  },
  {
   "cell_type": "code",
   "execution_count": 5,
   "id": "c3df461a-9845-47b4-bcae-acec1b1e01c3",
   "metadata": {},
   "outputs": [],
   "source": [
    "def download_image(url, filename):\n",
    "    try:\n",
    "        if os.path.exists(filename):\n",
    "            return True\n",
    "        response = requests.get(url)\n",
    "        with open(filename, \"wb+\") as f:\n",
    "            f.write(response.content)\n",
    "        return True\n",
    "    except:\n",
    "        return False"
   ]
  },
  {
   "cell_type": "code",
   "execution_count": 6,
   "id": "2f0af042-b17f-4d23-ac6b-a08179f44f0d",
   "metadata": {},
   "outputs": [],
   "source": [
    "def download_pages():\n",
    "    page_nr = 0\n",
    "    img_counter = 0\n",
    "    try:\n",
    "        data = []\n",
    "        except_counter = 0\n",
    "        \n",
    "        for page_nr in tqdm(range(0, 1044)):\n",
    "            page_url = get_page_url(page_nr)\n",
    "            page = requests.get(page_url, headers=headers)\n",
    "            soup = BeautifulSoup(page.text, \"lxml\")\n",
    "            for content in soup.select(\"div.node > div.content\"):\n",
    "                try:\n",
    "                    img_counter += 1\n",
    "                    img = content.select(\"a > img\")[0]\n",
    "                    p = content.select(\"p\")[0]\n",
    "                    src = img[\"src\"]\n",
    "                    title = img[\"title\"]\n",
    "                    year = int(resolve_year(title))\n",
    "                    text = p.text[:-16]\n",
    "                    downloaded = download_image(src, f\"images/{img_counter}_{year}.jpg\")\n",
    "                    data.append((year, src, text, downloaded))\n",
    "                except Exception as e:\n",
    "                    except_counter += 1  \n",
    "        \n",
    "    except Exception as e:\n",
    "        print(e)\n",
    "        print(\"Stopped at\", page_nr)\n",
    "    \n",
    "    finally:\n",
    "        df = pd.DataFrame(data, columns=[\"year\", \"src\", \"text\", \"downloaded\"])\n",
    "        df.to_csv(\"info.csv\", index=False)\n",
    "        return df"
   ]
  },
  {
   "cell_type": "code",
   "execution_count": null,
   "id": "33af3901-5cf4-438d-becd-18a836a0632d",
   "metadata": {},
   "outputs": [
    {
     "name": "stderr",
     "output_type": "stream",
     "text": [
      " 13%|█▎        | 135/1044 [31:44<3:57:31, 15.68s/it]"
     ]
    }
   ],
   "source": [
    "df = download_pages()"
   ]
  },
  {
   "cell_type": "code",
   "execution_count": 24,
   "id": "b930f5e3-02c9-4b41-a3ba-663011f24efd",
   "metadata": {},
   "outputs": [
    {
     "data": {
      "text/plain": [
       "'https://www.shorpy.com/files/images/2336_SHORPY.preview.jpg'"
      ]
     },
     "execution_count": 24,
     "metadata": {},
     "output_type": "execute_result"
    }
   ],
   "source": [
    "df.iloc[0][\"src\"]"
   ]
  },
  {
   "cell_type": "code",
   "execution_count": null,
   "id": "fa607d40-0a4d-46aa-9836-7697c9f503b6",
   "metadata": {},
   "outputs": [],
   "source": [
    "df = pd.read_csv(\"info.csv\")"
   ]
  },
  {
   "cell_type": "code",
   "execution_count": null,
   "id": "e9f20a35-4ed8-471a-9015-fcc9ab5708d3",
   "metadata": {},
   "outputs": [],
   "source": [
    "df[\"downloaded\"] = False"
   ]
  },
  {
   "cell_type": "code",
   "execution_count": null,
   "id": "4e1296c2-280b-4ac2-8369-7b30fe7ef8b6",
   "metadata": {},
   "outputs": [],
   "source": [
    "srcs = zip(list(range(0, df.shape[0])), list(df[\"src\"]), list(df[\"year\"]))"
   ]
  },
  {
   "cell_type": "code",
   "execution_count": null,
   "id": "5cdbc4bf-41ff-4cd0-af6f-8b959b0674e3",
   "metadata": {},
   "outputs": [],
   "source": [
    "srcs = list(srcs)"
   ]
  },
  {
   "cell_type": "code",
   "execution_count": null,
   "id": "48454b36-b74c-43c1-87f3-02a46e519cb6",
   "metadata": {},
   "outputs": [],
   "source": [
    "counter = 0"
   ]
  },
  {
   "cell_type": "code",
   "execution_count": null,
   "id": "1035cce3-19a7-4e1b-b2da-d072a6719b3b",
   "metadata": {},
   "outputs": [],
   "source": [
    "for (i, src, year) in tqdm(srcs):\n",
    "    try:\n",
    "        counter += 1\n",
    "        filename = f\"images/{counter}_{year}.jpg\"\n",
    "        if os.path.exists(filename):\n",
    "            continue\n",
    "        response = requests.get(src)\n",
    "        with open(filename, \"wb+\") as f:\n",
    "            f.write(response.content)\n",
    "        df.loc[i, \"downloaded\"] = True\n",
    "    except Exception as e:\n",
    "        print(e)\n",
    "    finally:\n",
    "        df.to_csv(\"info.csv\", index=False)"
   ]
  },
  {
   "cell_type": "code",
   "execution_count": null,
   "id": "7591e916-6478-46f9-85e8-053adf401502",
   "metadata": {},
   "outputs": [],
   "source": [
    "df[\"downloaded\"].sum()"
   ]
  },
  {
   "cell_type": "code",
   "execution_count": 26,
   "id": "aa16554e-087c-43c8-9e25-9b809fb5bedb",
   "metadata": {},
   "outputs": [
    {
     "data": {
      "text/plain": [
       "False"
      ]
     },
     "execution_count": 26,
     "metadata": {},
     "output_type": "execute_result"
    }
   ],
   "source": [
    "download_image(\"https://www.shorpy.com/files/images/2336_SHORPY.preview.jpg\", \"images/test\")"
   ]
  },
  {
   "cell_type": "code",
   "execution_count": 28,
   "id": "14bddc34-6129-4997-ac32-88700019483b",
   "metadata": {},
   "outputs": [],
   "source": [
    "response = requests.get(\"https://www.shorpy.com/files/images/2336_SHORPY.preview.jpg\")\n",
    "with open(\"images/test.jpg\", \"wb+\") as f:\n",
    "    f.write(response.content)"
   ]
  },
  {
   "cell_type": "code",
   "execution_count": null,
   "id": "eafcd3bf-2e92-4597-8788-a1a51dfc044e",
   "metadata": {},
   "outputs": [],
   "source": []
  }
 ],
 "metadata": {
  "kernelspec": {
   "display_name": "Python 3 (ipykernel)",
   "language": "python",
   "name": "python3"
  },
  "language_info": {
   "codemirror_mode": {
    "name": "ipython",
    "version": 3
   },
   "file_extension": ".py",
   "mimetype": "text/x-python",
   "name": "python",
   "nbconvert_exporter": "python",
   "pygments_lexer": "ipython3",
   "version": "3.10.5"
  }
 },
 "nbformat": 4,
 "nbformat_minor": 5
}
